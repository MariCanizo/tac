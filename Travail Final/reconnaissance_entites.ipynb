{
 "cells": [
  {
   "cell_type": "markdown",
   "metadata": {},
   "source": [
    "# Analyse de reconnaissance des entités nommées des personnes dans le corpus"
   ]
  },
  {
   "cell_type": "markdown",
   "metadata": {
    "tags": []
   },
   "source": [
    "## Imports"
   ]
  },
  {
   "cell_type": "code",
   "execution_count": 1,
   "metadata": {},
   "outputs": [
    {
     "name": "stderr",
     "output_type": "stream",
     "text": [
      "[nltk_data] Downloading package stopwords to /root/nltk_data...\n",
      "[nltk_data]   Package stopwords is already up-to-date!\n"
     ]
    }
   ],
   "source": [
    "from collections import defaultdict\n",
    "\n",
    "import sys\n",
    "import spacy\n",
    "from spacy.lang.fr.examples import sentences\n",
    "\n",
    "## For stop words \n",
    "import nltk\n",
    "nltk.download('stopwords')\n",
    "from nltk.corpus import stopwords\n",
    "\n",
    "from os import listdir\n",
    "from os.path import join, isfile\n",
    "\n",
    "import nltk\n",
    "from thefuzz import fuzz\n",
    "from thefuzz import process\n",
    "from Levenshtein import distance\n",
    "\n",
    "import matplotlib.pyplot as plt\n",
    "import matplotlib.figure as fig\n",
    "import numpy as np"
   ]
  },
  {
   "cell_type": "markdown",
   "metadata": {
    "tags": []
   },
   "source": [
    "## Ensemble de données choisi pour l'analyse"
   ]
  },
  {
   "cell_type": "markdown",
   "metadata": {
    "tags": []
   },
   "source": [
    "### Choisir et filtrer les fichiers du corpus"
   ]
  },
  {
   "cell_type": "code",
   "execution_count": 2,
   "metadata": {},
   "outputs": [
    {
     "name": "stdout",
     "output_type": "stream",
     "text": [
      "['Bxl_1850_Tome_I1_Part_1.txt', 'Bxl_1850_Tome_I1_Part_2.txt', 'Bxl_1850_Tome_I1_Part_3.txt', 'Bxl_1850_Tome_I1_Part_4.txt', 'Bxl_1850_Tome_II1_Part_1.txt', 'Bxl_1850_Tome_II1_Part_2.txt', 'Bxl_1850_Tome_II1_Part_3.txt', 'Bxl_1850_Tome_II1_Part_4.txt', 'Bxl_1850_Tome_II1_Part_5.txt', 'Bxl_1850_Tome_II1_Part_6.txt']\n"
     ]
    }
   ],
   "source": [
    "dirname = '../data/txt'\n",
    "\n",
    "# Choisir les années\n",
    "# 1939 parce-que 1940 il n'y a pas\n",
    "years = ['1850', '1860', '1870', '1880', '1890', '1900', '1910', '1920', '1930', '1939', '1950', '1960', '1970']\n",
    "\n",
    "#Filtrer les années\n",
    "def in_year(x):\n",
    "    for year in years:\n",
    "        if year in x:\n",
    "            return True\n",
    "    return False\n",
    "\n",
    "#Liste des fichiers faisant partie des années filtrées avec filter()\n",
    "files = list(filter(in_year, [f for f in listdir(dirname) if isfile(join(dirname, f))]))\n",
    "\n",
    "print(files[:10])\n",
    "    "
   ]
  },
  {
   "cell_type": "markdown",
   "metadata": {
    "tags": []
   },
   "source": [
    "### Statistiques des fichiers"
   ]
  },
  {
   "cell_type": "code",
   "execution_count": 3,
   "metadata": {},
   "outputs": [],
   "source": [
    "count_tomes = defaultdict(int)\n",
    "count_cities = defaultdict(int)\n",
    "count_files_year = defaultdict(int)"
   ]
  },
  {
   "cell_type": "code",
   "execution_count": 4,
   "metadata": {},
   "outputs": [],
   "source": [
    "for f in files:\n",
    "    if \"_\" in f and f.endswith(\"txt\"):\n",
    "        elems = f.split(\"_\")\n",
    "        city = elems[0]\n",
    "        tome = elems[3]\n",
    "        files_year = elems[1]\n",
    "        count_cities[city] += 1\n",
    "        count_tomes[tome] += 1\n",
    "        count_files_year[files_year] += 1\n",
    "    else:\n",
    "        print(f\"Anomalous file: {f}\")"
   ]
  },
  {
   "cell_type": "code",
   "execution_count": 5,
   "metadata": {},
   "outputs": [
    {
     "name": "stdout",
     "output_type": "stream",
     "text": [
      "239 documents sont des bulletins et 8 documents sont des rapports annuels\n"
     ]
    }
   ],
   "source": [
    "nb_rap = count_tomes['RptAn']\n",
    "print(f\"{len(files) - nb_rap} documents sont des bulletins et {nb_rap} documents sont des rapports annuels\")"
   ]
  },
  {
   "cell_type": "code",
   "execution_count": 6,
   "metadata": {},
   "outputs": [
    {
     "name": "stdout",
     "output_type": "stream",
     "text": [
      "Il y a 242 bulletins de Bruxelles and 5 de Laeken\n"
     ]
    }
   ],
   "source": [
    "print(f\"Il y a {count_cities['Bxl']} bulletins de Bruxelles and {count_cities['Lkn']} de Laeken\")"
   ]
  },
  {
   "cell_type": "code",
   "execution_count": 244,
   "metadata": {},
   "outputs": [
    {
     "data": {
      "image/png": "[encoded data removed]",
      "text/plain": [
       "<Figure size 1080x504 with 1 Axes>"
      ]
     },
     "metadata": {
      "needs_background": "light"
     },
     "output_type": "display_data"
    }
   ],
   "source": [
    "index = np.arange(len(count_files_year))\n",
    "plt.bar(index, count_files_year.values())\n",
    "plt.xlabel('Année')\n",
    "plt.ylabel('Nombre des bulletins')\n",
    "plt.xticks(index, count_files_year.keys(), fontsize=10, rotation=30)\n",
    "plt.title('Évolution du nombre de bulletins')\n",
    "plt.rcParams[\"figure.figsize\"] = (15,7)\n",
    "plt.show()"
   ]
  },
  {
   "cell_type": "markdown",
   "metadata": {
    "tags": []
   },
   "source": [
    "## Reconnaissance d'entités nommées "
   ]
  },
  {
   "cell_type": "markdown",
   "metadata": {
    "jp-MarkdownHeadingCollapsed": true,
    "tags": []
   },
   "source": [
    "### Creer une liste de stop words"
   ]
  },
  {
   "cell_type": "code",
   "execution_count": 9,
   "metadata": {},
   "outputs": [],
   "source": [
    "sw = stopwords.words(\"french\")\n",
    "sw += [\"les\", \"plus\", \"cette\", \"fait\", \"faire\", \"être\", \"deux\", \"comme\", \"dont\", \"tout\", \n",
    "       \"ils\", \"bien\", \"sans\", \"peut\", \"tous\", \"après\", \"ainsi\", \"donc\", \"cet\", \"sous\",\n",
    "       \"celle\", \"entre\", \"encore\", \"toutes\", \"pendant\", \"moins\", \"dire\", \"cela\", \"non\",\n",
    "       \"faut\", \"trois\", \"aussi\", \"dit\", \"avoir\", \"doit\", \"contre\", \"depuis\", \"autres\",\n",
    "       \"van\", \"het\", \"autre\", \"jusqu\", \"q u i\", \"Messieurs\", \"q u '\", \"D e P\", \"Page\", \n",
    "       \"Médicamens\", \"u r r i\", \"Enraisonde\", \"o p fa\", \"D E J\", \"lle5la\", \"Dépôt\", \n",
    "       \"É V A L U A T I O N DES T E\", \"j o u r\", \"Amortissement\", \"i v i\", \"Pardon\", \"W Y I V S DE\",\n",
    "       \"Discussion\", \"u vernement\", \"q u ' i\", \"é t a i\", \"q u e\", \"Celte\", \"Veuillez\", \"e u r\",\n",
    "       \"u i r\", \"v o i r\", \"Proposition\", \"D o u c e t\", \"i c i\", \"Subside\", \"o u i\", \"u i t\", \"Carreau\",\n",
    "       \"Paiemens\", \"r i e\", \"é t a i r\", \"i t - i l\", \"o u v r i r\", \"u j o u r\", \"Passons\", \"Voyons\",\n",
    "       \"t e r r\", \"Légumes\", \"Déjà\", \"j u g é\", \"bon v o u\", \"u t i o\", \"é d i\", \"q u i d\", \"é r e r\",\n",
    "       \"contre-avis\", \"u t i l e\", \"i v i d u\", \"reclus\", \"p o u r\", \"Recettes\", \"c. Amortissement\",\n",
    "       \"^ Moyennant\", \"advînt\", \"Agneessens\", \"apet\", \"çenè\", \"Phospiee\", \"u i<v\", \"Voulez\", \"o u r r\",\n",
    "       \"D e H\", \"P r é\", \"qucnce\", \"CHARGES SUR\", \"Année\", \"Montant du Sans\", \"Imputations\", \"Cercueils\",\n",
    "       \"Avances\", \"Recommander\", \"u r r\", \"Layettes\", \"u s i e u r\", \"v e i\", \"u collège\", \"Prorogation\",\n",
    "       \"ldiers\", \"Interpellation\", \"Monnaie\", \"r i r\", \"pèitl parfahçmenl\", \"mnrcfcé\", \"u i v r\", \"Naguère\",\n",
    "       \"hôpital Saint-Jean\", \"Abordant\", \"Faudra\", \"quesais\", \"v e r\", \"vcrdui ière\", \"u p r i x\", \n",
    "       \"Vieux-Marché\", \"j o u\", \"Démission\", \"i q u é\", \"50 c.\", \"û t e r\", \"q u e !\", \"u r é\", \"u v r i r\",\n",
    "       \"q u i c o\", \"c i r c u\", \"v i e r\", \"RESULTATS DE L'OPERATION AU BOUT DE\", \"pour24 ans\", \"soieni\",\n",
    "       \"i v i sion\", \"Décentraliser\", \"u i q u i\", \"halle\", \"loué\", \"Patriarches\", \"vdle\", \"messieurs\",\n",
    "       \"auxrenseignemens\", \"dessein\", \" Gross\", \"Fruits\", \"Cellierss\", \"a u j o\", \"270,785 f r\",\n",
    "       \"u Marché-aux-Herbes\", \"payât\", \"G/10s\", \"u j o\", \"q u ' a r r i v e r a - t - i\", \"u Collège\",\n",
    "       \"Tromper\", \"Distribution\", \"F. de Page\", \"u mont-de-piété\", \"u i v\", \"v i e r d e r\", \"mon i\",\n",
    "       \"Troplong\", \"Prétendra\", \"Pusage\", \"arB   \", \"Contiendra\", \"eYst\", \"Comp\", \"Communication\", \"î f l\",\n",
    "       \"Voté apparait\", \"embellissemens\", \"u vestibule d\", \"naie\", \"lllaes\", \"BAR-\", \"L'auteur\", \"Paradis\",\n",
    "       \"Abonnemens\", \"Maintenez\", \"vientde\", \"Parterre\", \"S6,000\", \"couronnas\", \"vousmêmes\", \"Reste\", \"rétendue\",\n",
    "      \"Bourgmestre\", \"M. le Bourgmestre\", \"Mesdames\", \"Echevin\", \"Echevins\", \"Budget\", \"Considérant\",\n",
    "       \"Observations\",\"Secrétaire\",\"Le Secrétaire\", \"M. l'Echevin\",\"Monsieur le Bourgmestre\", \"Président\",\n",
    "       \"Mesdames\", \"Propriétés\",\"Adoption\", \"Alesdames\",\"Burgemeester\", \"M.le Bourgmestre\",\"îe Bourgmestre\", \n",
    "       \"MM. le Bourgmestre\",\"Messieurs les Bourgmestre\", \"M. l'Echevin\"]\n",
    "sw = set(sw)"
   ]
  },
  {
   "cell_type": "code",
   "execution_count": 10,
   "metadata": {},
   "outputs": [
    {
     "name": "stdout",
     "output_type": "stream",
     "text": [
      "386 stopwords\n"
     ]
    }
   ],
   "source": [
    "print(f\"{len(sw)} stopwords\")"
   ]
  },
  {
   "cell_type": "markdown",
   "metadata": {
    "jp-MarkdownHeadingCollapsed": true,
    "tags": []
   },
   "source": [
    "### Appliquer la reconnaissance d'entités nommées PER"
   ]
  },
  {
   "cell_type": "code",
   "execution_count": 13,
   "metadata": {},
   "outputs": [],
   "source": [
    "people = defaultdict(int)\n",
    "\n",
    "nlp = spacy.load('fr_core_news_md')"
   ]
  },
  {
   "cell_type": "code",
   "execution_count": 14,
   "metadata": {},
   "outputs": [
    {
     "name": "stdout",
     "output_type": "stream",
     "text": [
      "CPU times: user 1h 10min 20s, sys: 2min 17s, total: 1h 12min 38s\n",
      "Wall time: 1h 13min 14s\n"
     ]
    }
   ],
   "source": [
    "%%time\n",
    "\n",
    "files_with_entities = defaultdict(dict)\n",
    "\n",
    "for file in files:\n",
    "    # Dictionnaire de dictionnaire : contient comme key le nom du file, \n",
    "    # et le valeur est un dictionnaire avec les entités comme key et sa fréquence comme valeur\n",
    "    files_with_entities[file] = defaultdict(int)\n",
    "    path = join(dirname, file)\n",
    "    #print('path', path)\n",
    "    with open(path, encoding='utf-8') as f:\n",
    "        text = f.read()\n",
    "        doc = nlp(text)\n",
    "        for ent in doc.ents:\n",
    "            if ent.label_ == \"PER\" and len(ent.text) > 3 and ent.text not in sw:\n",
    "                files_with_entities[file][ent.text] += 1\n",
    "                people[ent.text] += 1\n",
    "        #print(files_with_entities)\n",
    "\n",
    "#print(\"finished!\")\n",
    "#print(files_with_entities())"
   ]
  },
  {
   "cell_type": "code",
   "execution_count": 15,
   "metadata": {},
   "outputs": [
    {
     "data": {
      "text/plain": [
       "42754"
      ]
     },
     "execution_count": 15,
     "metadata": {},
     "output_type": "execute_result"
    }
   ],
   "source": [
    "# Nombre d'entités trouvées\n",
    "len(people.keys())"
   ]
  },
  {
   "cell_type": "markdown",
   "metadata": {
    "jp-MarkdownHeadingCollapsed": true,
    "tags": []
   },
   "source": [
    "## Nettoyage des entités similaires trouvées "
   ]
  },
  {
   "cell_type": "markdown",
   "metadata": {
    "tags": []
   },
   "source": [
    "### Détection non automatique d'erreurs OCR dans les entités nommées"
   ]
  },
  {
   "cell_type": "code",
   "execution_count": 16,
   "metadata": {},
   "outputs": [],
   "source": [
    "\n",
    "sorted_people = sorted(people.items(), key=lambda kv: kv[1], reverse=True)\n",
    "\n",
    "# Trouver mots -> entités qui sont du style 'e t a', 'a l ^', 'o u a l'\n",
    "def is_not_ocr_error(word):\n",
    "    for w in word.split(\" \"):\n",
    "        if len(w) > 1:\n",
    "            return True\n",
    "\n",
    "    return False\n",
    "\n",
    "# Filtrer les mots sans l'erreur d'OCR trouvé\n",
    "sorted_people = list(filter(lambda x: is_not_ocr_error(x[0]), sorted_people))\n",
    "\n",
    "#map fonction pour detecter le 1er element de la tuple\n",
    "names = list(map(lambda x: x[0], sorted_people))\n",
    "repeated = defaultdict(list)\n"
   ]
  },
  {
   "cell_type": "code",
   "execution_count": 17,
   "metadata": {},
   "outputs": [
    {
     "data": {
      "text/plain": [
       "38079"
      ]
     },
     "execution_count": 17,
     "metadata": {},
     "output_type": "execute_result"
    }
   ],
   "source": [
    "len(names)"
   ]
  },
  {
   "cell_type": "markdown",
   "metadata": {
    "jp-MarkdownHeadingCollapsed": true,
    "tags": []
   },
   "source": [
    "### Détection automatique d'erreurs OCR et regrouper les entités selon la similarité"
   ]
  },
  {
   "cell_type": "code",
   "execution_count": 20,
   "metadata": {},
   "outputs": [
    {
     "name": "stdout",
     "output_type": "stream",
     "text": [
      "['Brunfaut', 'Lepage', 'Richald', 'Bochart', 'Vermeire', 'De Mot', 'M. Brunfaut', 'Speeckaert', 'Vauthier', 'Catteau', 'Lemonnier', 'Godefroy', 'Verheven', 'Camille Huysmans', 'Depaire', 'Hubert', 'Foucart', 'Montant', 'Bauwens', 'Fabrique', 'Deboeck', 'Joseph', 'Legs', 'Thonet', 'Moyson', 'Loyer', 'Conrardy', 'Linotte', 'Vandendorpe', 'Jean', 'Schmitz', 'Louise', 'Lalemand', 'Bischoffsheim', 'Schalckens', 'Fontainas', 'Entretien', 'Anspach', 'Theodor', 'Monsieur', 'Piron', 'M. Durant', 'Brugmann', 'Hallet', 'Anspach-Puissant', 'M. Vermeire', 'M. Lepage', 'Penaranda de Franchimont', 'Gudule', 'Van de Meulebroeck']\n"
     ]
    }
   ],
   "source": [
    "# Lister/grouper les mots considérés comme synonymes = fuzz.ratio > 75 \n",
    "for name in names:\n",
    "    repeated[name] = list()\n",
    "    for other_name in names:\n",
    "        if name != other_name:\n",
    "            ratio = fuzz.ratio(name, other_name)\n",
    "            # 75 Ç'est un bon numéro de manière général, sauf pour le mot \"Bourgmestre\"\n",
    "            if ratio >= 75: \n",
    "                repeated[name].append(other_name)\n",
    "            \n",
    "\n",
    "print(list(repeated.keys())[:50])"
   ]
  },
  {
   "cell_type": "code",
   "execution_count": 21,
   "metadata": {},
   "outputs": [
    {
     "name": "stdout",
     "output_type": "stream",
     "text": [
      "Brunfaut ['M. Brunfaut', 'M Brunfaut', 'Bruneau', 'MM. Brunfaut', 'Brunîaut', 'M.\\n\\nBrunfaut', 'Brifaut', 'Orunfaut', 'Biunfaut', 'Bruufaut', 'VU Brunfaut', 'Mme Brunfaut', 'M. Brunfaut M', 'Bruniaui', 'Vt Brunfaut', 'd Brunfaut', 'heer Brunfaut', 'Bnmfaut', 'Brunfatit', 'i Brunfaut', 'u r Brunfaut', 'M.\\nBrunfaut']\n",
      "Lepage ['M. Lepage', 'Depage', 'MM. Lepage', 'M Lepage', 'ML Lepage', 'Lepag^e', 'M.\\n\\nLepage', 'Lepage Bn', 'VL Lepage', 'JVL Lepage']\n",
      "Richald ['M. Richald', 'Richard', 'MM. Richald', 'Richaid', 'Bichald', 'Ricard', 'M.Richald', 'Eichald', 'R i chaid', 'ttichald', 'M Richaid', 'Richald\\nM.', 'Ëichald', 'Richald Ta', 'M Richald']\n",
      "Bochart ['M. Bochart', 'Brichart', 'M Bochart', 'Bochard', 'MM. Bochart', 'Bocliart', 'Blanchart', 'Bouckaert', 'Bodart', 'M. Bochartà', 'M.,Bochart', 'Sochart', 'Jlochart', 'Boncart', 'Cochart']\n"
     ]
    }
   ],
   "source": [
    "i = 0\n",
    "\n",
    "for x in repeated:\n",
    "    if i < 4 :\n",
    "        print(x, repeated[x])\n",
    "        i += 1"
   ]
  },
  {
   "cell_type": "markdown",
   "metadata": {
    "tags": []
   },
   "source": [
    "### Déduplication de groupe d'entités similaires"
   ]
  },
  {
   "cell_type": "code",
   "execution_count": 22,
   "metadata": {},
   "outputs": [
    {
     "name": "stdout",
     "output_type": "stream",
     "text": [
      "['Brunfaut', 'Lepage', 'Richald', 'Bochart', 'Vermeire', 'De Mot', 'Speeckaert', 'Vauthier', 'Catteau', 'Lemonnier', 'Godefroy', 'Verheven', 'Camille Huysmans', 'Depaire', 'Hubert', 'Foucart', 'Montant', 'Bauwens', 'Fabrique', 'Deboeck', 'Joseph', 'Legs', 'Thonet', 'Moyson', 'Loyer', 'Conrardy', 'Linotte', 'Vandendorpe', 'Jean', 'Schmitz', 'Louise', 'Lalemand', 'Bischoffsheim', 'Schalckens', 'Fontainas', 'Entretien', 'Anspach', 'Theodor', 'Monsieur', 'Piron', 'M. Durant', 'Brugmann', 'Hallet', 'Anspach-Puissant', 'Penaranda de Franchimont', 'Gudule', 'Van de Meulebroeck', 'Watteeu', 'Stuckens', 'Van Remoortel', 'Hermanus', 'Charles', 'M. Allard', 'Weber', 'Jardin', 'Echevin Jacqmain', 'Doucet', 'Avis', 'Leclercq', 'Grimard', 'Rouppe', 'François', 'Attendu', 'Swolfs', 'Desmet', 'Deschuyffeleer', 'Décès', 'Henri', 'Echevin Lemonnier', 'Gisler', 'Jacobs', 'Walter', 'Jules', 'Xavier Carton de Wiart', 'Vanderlinden', 'M. le Secrétaire', 'Reine', 'M. Wauwermans', 'Splingard', 'Genot', 'Brunet', 'Léopold', 'Echevin Catteau', 'De Myttenaere', 'Camille H u', 'Gouverneur du Brabant', 'Jean-Baptiste', 'Blanchissage', 'M. Walravens', 'Bogaerts', 'Saint-Gilles', 'Delbastée', 'Dansaert', 'M. Yseux', 'Prolongement', 'Martiny', 'Jottrand', 'Heyvaert', 'Marie', 'Funck']\n"
     ]
    }
   ],
   "source": [
    "# Garder un set()  avec les mots déjà traités pour ne pas les traiter plus d'une fois\n",
    "processed = set() \n",
    "\n",
    "# Sommer la frequence d'un mot et ses synonymes\n",
    "dedup = {} \n",
    "\n",
    "# Traiter \n",
    "for word, synonyms in repeated.items():\n",
    "    # Si un mot n'a pas été traité\n",
    "    if (word not in processed and word != \"Bourgmestre\"): # hack\n",
    "        dedup[word] = next(x for x in sorted_people if x[0] == word)[1]\n",
    "        \n",
    "        processed.add(word)\n",
    "        for w in synonyms:\n",
    "            e = next(x for x in sorted_people if x[0] == w)[1]\n",
    "            dedup[word] += e\n",
    "            processed.add(w)\n",
    "\n",
    "\n",
    "print(list(dedup.keys())[:100])\n",
    "    "
   ]
  },
  {
   "cell_type": "code",
   "execution_count": 24,
   "metadata": {},
   "outputs": [
    {
     "data": {
      "text/plain": [
       "22975"
      ]
     },
     "execution_count": 24,
     "metadata": {},
     "output_type": "execute_result"
    }
   ],
   "source": [
    "len(dedup.keys())"
   ]
  },
  {
   "cell_type": "markdown",
   "metadata": {
    "jp-MarkdownHeadingCollapsed": true,
    "tags": []
   },
   "source": [
    "## Statistiques des entités nomées"
   ]
  },
  {
   "cell_type": "markdown",
   "metadata": {},
   "source": [
    "### Évolution des entités nommées au fil des ans"
   ]
  },
  {
   "cell_type": "code",
   "execution_count": 25,
   "metadata": {},
   "outputs": [
    {
     "name": "stdout",
     "output_type": "stream",
     "text": [
      "Bxl_1850_Tome_I1_Part_1.txt defaultdict(<class 'int'>, {'Panoramas': 1, 'Fourniture': 3, 'Présidence de M': 2, 'Autorisation': 7, 'M. Téchcvin Hlaes': 1, 'Maintien': 1, 'Capouillet': 4, 'De Meure': 1, 'De V': 4, 'Humbeeck': 2, 'Vandermeeren': 5, 'Bischoffssheim': 1, 'Doucet': 5, 'u teur': 1, 'Lettre': 1, 'u moyen-àge': 1, 'u t e u': 4, 'P o u r': 2, 'Delaveleye': 1, 'u t i': 4, \"q u ' u\": 12, 'c e r t a i': 1, 'r u d e v o i r casser': 1, 'u g o u v': 1, 'u c u': 3, 'r i v': 2, 'p o u': 6, 'Sevestre': 1, 'u Cercle': 1, 'Hegcr': 1, \"u q u ' e\": 1, 'u t a i': 1, 'u r M': 1, 'q u i a r e': 1, 'u v r': 1, 'q u i p o u r r': 1, 'f i t e': 1, 'q u e s': 2, 'i q u': 5, 'd e r': 1, \"q u ' e\": 7, 'v i g': 1, 'Diminution': 1, 'j u i': 4, 'Jean-Baptiste D e c': 1, 'Jeanne-Marie V': 1, 'u Marché': 3, 'Poisson': 2, 'u c t i o': 1, 'u r d r o i t': 1, 'e v r': 4, 'u d e r': 1, 'a u c u': 1, 'u p a i': 1, 'q j o': 3, 'r o i t': 6, 'q u i ne r': 1, 'u r i': 1, 'u v e r t u r e': 2, 'marc': 1, 'i sère': 1, 'Winterbeék': 2, 'Schaerbeék': 1, 'Botanique': 1, 'u r p a r': 1, 'u t r e': 6, 'r u e': 31, 'u r e n t': 2, 'r u e des T r o i s': 2, 'u p é': 1, 'q u e l': 10, 'r u e des T r o i s - T è t e': 3, 'r u e N': 3, 'r u e V i': 2, 'r u e T e r': 2, 'u r e n t se r': 1, 'u v e': 11, 'r u e\\ndes Trois-Tètes': 1, 'u t r e m u r': 1, 'u i r e': 5, 'u v e r': 8, 'u Régent': 1, 'Salazar': 2, 'q u e r': 8, 'u g o u v e r': 4, 'r u e V': 1, 'soutènement': 1, \"r u e d'Isabelle\": 1, 'Pavage': 2, 'Candélabres': 2, 'Terar': 1, 'q u i s i t i o': 1, 'Schmit': 1, 'St.-Roch': 5, 'u e u r': 2, 'q u i o n': 1, 'r u e de l': 3, 'u t o r i': 4, \"q u ' a u\": 1, 'j u g': 1, 'u t r e p': 1, \"q u ' a\": 1, 'i f i c a t i': 1, 'u t r o u S t': 1, 'u v a': 1, 'u d r': 5, 'r u e des T r o i': 2, 'u i t e': 1, 'c i r c': 3, 'r o i t e': 1, \"q u e r q u ' e\": 1, 'u q u': 3, 'r u i': 1, \"q u ' i l d e m\": 2, 'N o u': 3, 'v i e': 4, 'o u r': 10, 'f i t e n t': 1, 'm i n i': 1, 'v u e d u': 2, 'u r i o': 2, 'u t o r i s e r': 3, 'q u i les v i v': 2, 'u v r i': 1, 'offert u': 1, 'rêté r': 1, 'f o u r': 1, 'u r c': 1, 'u t o r i -\\n\\n\\x0c': 1, 'u 17': 1, 'bre d e r': 1, 'Dansaert': 7, 'u g r': 1, 'o p i': 1, 'u Conseil': 3, 'f i n i': 1, 'a u j o u r': 4, 'Bisshoffsheim': 1, 'Watteeu': 4, 'venable': 1, 'D e D': 4, 'q u i a v o u': 1, 'u v e l e m': 1, 'v o i': 13, 'u q u e l': 2, 'p u i': 1, 'Ranwet': 2, 'Van Gaver': 1, 'Fontainas': 2, 'Verhulst': 1, 'Vanderlinden': 2, 'Trurnper': 1, 'De Doncker': 1, 'Van Humbeeck': 1, 'Mersman': 7, \"q u ' i l r e\": 1, 'v i r': 3, 'u r e': 2, 'u t r': 6, 't i r e r': 9, 's u r': 4, 'u t i l e de r e p u b': 1, 'e - N': 1, 'duc de L': 1, 'e t c': 2, 'e a u': 1, 'v o i t u r i e r': 1, 'x i s t e r': 1, 't e r r e': 1, 'q u e o u bateau': 1, 'i v e r': 3, 'u c t e u r p o u r r': 1, 'u torité': 1, 'q u i\\n': 2, 'r o i t q u i': 1, 'q u i !': 1, 'u i p r e': 1, 'q u e o u v o i': 1, 'q u e l i l d': 1, 'p o u r t r': 1, 'zsb f f o q\\n': 1, 'q c i': 1, 'q u i v o u d r': 1, 'u t o': 6, '^SgBYQ': 1, 'i c a t i': 1, 'u f e u': 2, 'p o u d r': 2, 'q u i l u i': 2, 'u c t e u r': 2, 'p r é férence': 1, 'j u d i c i': 1, 'XXII': 1, \"t i r e r o u d'artifices\": 1, 'XXIII': 1, 'u v i': 2, 'q u i l e u': 1, 't i r': 1, 'Mcrsman': 1, 'Avis': 1, 'Van Doornick': 1, 'D e V': 3, 'Verstraeten': 4, 'u v é': 2, 'D e N e': 1, 'r e d u j o u r': 4, 'r u e de M': 3, 'q u i v': 1, 'r e d u': 5, 'i e u': 6, 's u r l e': 1, 'v i e n': 1, 'o u q u': 1, 'Dcneck': 1, 'Régent': 2, \"u v e r t u r e d '\": 1, 'r i f i': 1, 'q u e B r u x': 1, 'q u é': 5, 'q u o i q u e': 1, 'u g o u': 1, 'œ u é': 1, 'u i u': 1, 'u r a i': 1, 'q u e j e': 1, 'u r a i s r': 1, 'v o i e': 1, 'u r a - t': 1, 't i e r': 1, 'ajournem': 1, 'u v e l l e': 2, 'r u e des C': 1, 'b i e': 1, 'u p r i': 1, 'hospices u': 1, 'r u e Partoes': 1, 'v o u': 15, 'u t e': 1, 'r u e S': 1, 'e u x r u e s u': 1, 'u r r e': 2, 'q u i l u': 1, 'f e r': 2, 'q u i f o r': 1, 'f u t u r': 1, 'v u q u i': 1, 'v i l l e': 1, 'r u e e': 1, 'G u i m': 1, 'd i r e u': 1, 'c r a i': 1, 'q u o i': 5, 'construire u': 1, 'f r a i': 1, 'f o u l e': 2, 'j o u i r': 1, 'u i n i': 1, 'u p l': 1, 'u trou S t': 1, 'a i d e r': 1, 'v i i i B i': 1, 'u quartier d': 1, 'u e - V i e': 2, 'u e d e s Trois-Tètes': 1, 'D u j a r': 1, 'Pouvez': 1, 'Q u e': 3, 'soustrairez p': 1, 'u r r u e R': 1, 'ajouter u': 1, 's u r u': 2, 'r u e R': 2, 'r u e l': 1, 'q u i r é': 1, 'Gravé': 1, \"q u ' i l m\": 1, 'd i r e c': 1, 'u r a i t f': 1, 'q u e n': 1, 'i v e a u': 1, 'q u i m i l i t e e': 1, 'u S t': 2, 'i q u e': 1, 'tiens v': 1, 'v u e': 1, 'v o u d r': 1, 'q u e v o u': 1, 'v o t r e': 1, 'u r e z': 1, 'u i r e u': 2, 'u i \\\\ p u': 1, 'faisons u': 1, 'Ja q u': 1, 'u t i r': 1, 'p r é': 2, 'q u i r e': 1, 'o u d e': 1, 'f o u': 1, 'Van Ilumbeeck': 2, 'De P': 3, 'D o o r': 1, 'u p u l': 1, 'q u i p a r': 1, 'u subside': 3, 'u 24': 1, 'q u e d o': 1, 'v i e r u': 1, 'c i t': 1, 'o i v e': 1, \"q u e j '\": 1, 'j e u x': 1, \"q u ' o\": 1, 'IfH. B': 1, 'Q u i': 1, 'u j e u': 1, 'o u ragement': 1, 'Cosyns': 3, 'struire u': 1, 'r o i': 1, 'u bataillon c a': 1, 'lever u': 1, 'q u i n z': 1, 'q u a r': 1, 'e t r': 1, 'D e B': 1, 'délégué u': 1, 'j o u i': 1, 'q u e r q u': 1, 'Tirage': 1, 'O P O': 1, 'i q u i': 1, 'é u n i r': 1, 'i t i o': 2, 'q u i a u r': 1, 'j u r': 2, 'v e u r': 1, 'u x q u e': 1, 'r i c u': 1, 'u j u r': 1, 'q u i p o': 1, 'q u i l': 1, 'D E T H E': 1, 'Vandcrborght': 1, 'De B': 1, 'S e g h e r': 2, 'ftumbeeck': 1, 'D o t i c e t': 1, 'sieur V': 2, 'q u i rëédifie': 1, 'q u i v o n t': 1, 'q u i n z e j o u r': 1, 'p r i': 1, 'v o u l e z': 1, 'é t a i r e d': 1, 'riiui': 1, 'j i o j oh': 1, 'ItM. V': 1, 'e u x règlements': 1, 'séparémentiflfloiJBJa': 1, 'u Marché-auxHerbes': 1, 'r u e de la\\n': 1, 'u d c': 1, 'u trottoir': 1, 'S u r': 2, 'c i n q': 1, 'i u d': 1, 'Charles-François W i t e r w u': 1, 'Sroyen': 1, 'Vanden\\nEynde': 1, 'Isque': 1, 'Roberti': 1, 'Jeanne Masbourg': 1, 'Demunter': 1, 'Isabelle': 1, 'Y Emancipation': 1, 'Maheu': 1, 'Nachtegael': 1, 'oiiûa al J;tr»vfsh âïbfm 9 2': 1, \"Jo eio'ùuaiiiSQ aiaoraoaaildBlo\": 1, 'XIJB IOU': 1, \"Jiaa'ïLÏÉ ïflob\": 1, 'looTjbnfiOidb': 1, 'i q u e r': 1, 'q ol arav o': 1, 'C H A P I': 2, 'u r o i': 1, 'r u e Neuve': 1, 'u Fosséa u x - L o u p': 1, 'u Fossé': 2, 'Reine': 1, 'u v e r t u r e de l': 2, 'u t r o t t o i r': 3, \"r u e de l '\": 2, 'q u e u e': 2, 'f i l e': 1, 'r i v é': 2, \"u e d ' A r e m b e r g o u p a r\": 2, 'u pont': 2, 'r u e a u x F': 1, 'P o u r le r e t o u r': 2, 'u pont des V': 1, 'r u e de la Fiancée': 2, 'u t e m p l e': 3, 'u temple': 1, 'Le Bourgmestre': 2, 'é p é e s': 1, 'a u x': 1, 'o u q u i s e r': 1, 'q u i q u e': 1, 'j e t e r': 1, 'o u a u c u': 1, 'f f r i r': 1, 'u c a r': 1, 'a u c': 1, 'q u é e s': 2, 'r o i t d e d e m': 1, 'r u e des F r i p i e r': 1, 'q u e c': 2, 'a u x t e r': 1, 'i qués': 1, 'Doncker': 1, 'De\\nD o': 1, 'Van IlumbeécK': 1, 'Vandermeercn': 1, 'q u i l e u r': 1, 'n t a i': 1, 'p u r': 1, 'S e g': 1, 'V e r e e': 1, 'sieur Kops': 1, 'sieur Vereecken': 1, 'Audenrode': 1, \"q u ' a u j o u r\": 1, 'renseignât': 1, 'tétc d u': 1, 'j u d i c a t i o': 1, 'u j e t': 1, 'a u l': 1, 'p r o c': 1, 'q u i p e': 1, 'v i e r dernier': 1, 'v o u l u': 1, 'Boni': 20, 'Glicndt de Lenglentier': 1, 'M. Bischoffssheim': 1, 'c i r': 1, 'q u i t t e r': 4, 'u v e n t': 1, 'u v e u': 1, 'o u u': 1, 'u i v r e': 1, 'q u e p o': 1, 'é e s': 1, 'o u j o u r': 1, 'r e d u s t': 1, 'u théâtre': 1, 'reten u': 1, 'r o i t e de l': 1, 'Évêque': 3, 'r u e des F r i': 2, 'r u e Léopold': 1, 'u café D o m i': 1, 'u Café': 1, \"r u e d ' A r e m b e r g o u\": 1, 'r u e d e': 1, 'p i é': 1, 'r e d u stationnement': 1, 'n t a v': 1, 'i r i v e r': 1, 'r u e d': 1, 'Fripiers': 1, 'r u e F': 1, 'r u e Fossé-aux-Loups': 1, \"r u e de l'Évêque\": 1, 'v o i t u r e': 1, 'de\"l\\'': 1, 'C. D E B R O U C K E R E': 1, 'Van G a T O r': 1, 'Vandermceren': 1, 'Bïschoffssheim': 1, 'Doucct': 1, 'p e u': 1, 'v o i r s i': 1, 'VroTï': 1, 'v i e u x poêles': 1, 'D e M e u r e': 1, 'r e d u j o u': 1, 'é d e r': 1, 'u i n': 1, 'Jean-Baptiste B i e b': 1, 'v i v': 1, 'charges sub': 1, 'u B r': 1, 'u 4 j u i': 1, 'S\\n\\n\\x0c': 1, 'B i e': 1, 'u i vants': 1, 'événem': 1, 's u i v': 1, 'r u e des M': 1, 'r u e H': 1, 'e u r supérieure': 1, 'i v i s i': 1, 'e u x': 1, 'M. l e B o u r g': 1, 'u v r i e r': 1})\n"
     ]
    }
   ],
   "source": [
    "# files_with_entities est un dictionnaire de dictionnaire : contient comme key le nom du file, \n",
    "# et le valeur est un dictionnaire avec les entités comme key et sa fréquence comme valeur\n",
    "i = 0\n",
    "\n",
    "for item in files_with_entities:\n",
    "    if i < 1 :\n",
    "        print(item, files_with_entities[item])\n",
    "        i += 1"
   ]
  },
  {
   "cell_type": "markdown",
   "metadata": {},
   "source": [
    "### Détecter le nombre d'entités nommées et la fréquence total, par année"
   ]
  },
  {
   "cell_type": "code",
   "execution_count": 26,
   "metadata": {},
   "outputs": [
    {
     "name": "stdout",
     "output_type": "stream",
     "text": [
      "{'1850': 59, '1860': 61, '1870': 185, '1880': 535, '1890': 349, '1900': 149, '1910': 84, '1920': 545, '1930': 137, '1939': 175, '1950': 45, '1960': 318, '1970': 932}\n",
      "{'1850': 64, '1860': 74, '1870': 302, '1880': 645, '1890': 1065, '1900': 253, '1910': 139, '1920': 613, '1930': 238, '1939': 262, '1950': 49, '1960': 400, '1970': 1028}\n"
     ]
    }
   ],
   "source": [
    "# Nombre d'entités sur chaque année\n",
    "entities_per_year = {}\n",
    "\n",
    "# Somme de toutes les répétitions de toutes les entités par an\n",
    "frequencies_per_year = {}\n",
    "\n",
    "for (file, entities) in files_with_entities.items():\n",
    "    # Detecter l'année du nom de fichier\n",
    "    year = file.split(\"_\")[1]\n",
    "    \n",
    "    # Chaque année, le nombre d'entités correspond au nombre de clés dans le dictionnaire\n",
    "    entities_per_year[year] = len(entities.keys())\n",
    "    \n",
    "    # Itérer sur toutes les valeurs et les sommer\n",
    "    frequencies = 0\n",
    "    for freq in entities.values():\n",
    "        frequencies += freq\n",
    "    frequencies_per_year[year] = frequencies\n",
    "\n",
    "print(entities_per_year)\n",
    "print(frequencies_per_year)"
   ]
  },
  {
   "cell_type": "markdown",
   "metadata": {},
   "source": [
    "### Graphique de l'évolution des entités trouvées par année"
   ]
  },
  {
   "cell_type": "code",
   "execution_count": 27,
   "metadata": {},
   "outputs": [
    {
     "data": {
      "image/png": "[encoded data removed]",
      "text/plain": [
       "<Figure size 1080x504 with 1 Axes>"
      ]
     },
     "metadata": {
      "needs_background": "light"
     },
     "output_type": "display_data"
    }
   ],
   "source": [
    "plt.bar(range(len(entities_per_year)), list(entities_per_year.values()), align='center')\n",
    "plt.xticks(range(len(entities_per_year)), list(entities_per_year.keys()))\n",
    "plt.xlabel('Année')\n",
    "plt.ylabel(\"# Nombre d'entités nommées\")\n",
    "plt.title(\"Evolution du nombre d'entités nommées\")\n",
    "plt.show()"
   ]
  },
  {
   "cell_type": "markdown",
   "metadata": {},
   "source": [
    "### Graphique de l'évolution de la fréquence des entités trouvées par an"
   ]
  },
  {
   "cell_type": "code",
   "execution_count": 28,
   "metadata": {},
   "outputs": [
    {
     "data": {
      "image/png": "[encoded data removed]",
      "text/plain": [
       "<Figure size 1080x504 with 1 Axes>"
      ]
     },
     "metadata": {
      "needs_background": "light"
     },
     "output_type": "display_data"
    }
   ],
   "source": [
    "plt.bar(range(len(frequencies_per_year)), list(frequencies_per_year.values()), align='center')\n",
    "plt.xticks(range(len(frequencies_per_year)), list(frequencies_per_year.keys()))\n",
    "plt.xlabel('Année')\n",
    "plt.ylabel(\"# fréquence d'apparition des entités nomées\")\n",
    "plt.title(\"Évolution de la fréquence d'entités nommées\")\n",
    "plt.show()"
   ]
  },
  {
   "cell_type": "markdown",
   "metadata": {
    "jp-MarkdownHeadingCollapsed": true,
    "tags": []
   },
   "source": [
    "## Moteur de recherche de fichiers où se trouve une entité de nom propre"
   ]
  },
  {
   "cell_type": "markdown",
   "metadata": {},
   "source": [
    "### Fréquence, nombre de fichiers dans lesquels il apparaît et taux d'apparition des entités"
   ]
  },
  {
   "cell_type": "code",
   "execution_count": 29,
   "metadata": {},
   "outputs": [
    {
     "name": "stdout",
     "output_type": "stream",
     "text": [
      "[('Brunfaut', 842, 55, 15.309090909090909), ('Lepage', 827, 89, 9.292134831460674), ('Richald', 805, 29, 27.75862068965517), ('Bochart', 686, 13, 52.76923076923077), ('Vermeire', 630, 60, 10.5), ('De Mot', 547, 63, 8.682539682539682), ('M. Brunfaut', 402, 46, 8.73913043478261), ('Speeckaert', 399, 40, 9.975), ('Vauthier', 387, 36, 10.75), ('Catteau', 377, 58, 6.5), ('Lemonnier', 355, 60, 5.916666666666667), ('Godefroy', 343, 44, 7.795454545454546), ('Verheven', 331, 70, 4.728571428571429), ('Camille Huysmans', 330, 26, 12.692307692307692), ('Depaire', 325, 63, 5.158730158730159), ('Hubert', 310, 56, 5.535714285714286), ('Foucart', 297, 37, 8.027027027027026), ('Montant', 289, 65, 4.446153846153846), ('Bauwens', 273, 42, 6.5), ('Fabrique', 273, 80, 3.4125), ('Deboeck', 269, 46, 5.8478260869565215), ('Joseph', 244, 73, 3.3424657534246576), ('Legs', 238, 78, 3.051282051282051), ('Thonet', 235, 18, 13.055555555555555), ('Moyson', 219, 47, 4.659574468085107), ('Loyer', 213, 72, 2.9583333333333335), ('Conrardy', 213, 41, 5.195121951219512), ('Linotte', 213, 38, 5.605263157894737), ('Vandendorpe', 207, 30, 6.9), ('Jean', 206, 70, 2.942857142857143), ('Schmitz', 206, 30, 6.866666666666666), ('Louise', 205, 93, 2.204301075268817), ('Lalemand', 199, 37, 5.378378378378378), ('Bischoffsheim', 197, 72, 2.736111111111111), ('Schalckens', 189, 25, 7.56), ('Fontainas', 184, 47, 3.9148936170212765), ('Entretien', 182, 63, 2.888888888888889), ('Anspach', 181, 73, 2.4794520547945207), ('Theodor', 180, 28, 6.428571428571429), ('Monsieur', 177, 83, 2.1325301204819276), ('Piron', 176, 43, 4.093023255813954), ('M. Durant', 176, 18, 9.777777777777779), ('Brugmann', 175, 65, 2.6923076923076925), ('Hallet', 175, 29, 6.0344827586206895), ('Anspach-Puissant', 175, 39, 4.487179487179487), ('M. Vermeire', 170, 38, 4.473684210526316), ('M. Lepage', 168, 31, 5.419354838709677), ('Penaranda de Franchimont', 168, 43, 3.9069767441860463), ('Gudule', 162, 82, 1.975609756097561), ('Van de Meulebroeck', 161, 44, 3.659090909090909)]\n"
     ]
    }
   ],
   "source": [
    "entities_file = defaultdict(set)\n",
    "\n",
    "for (file, entities) in files_with_entities.items():\n",
    "    for entity in entities.keys():\n",
    "        entities_file[entity].add(file)\n",
    "\n",
    "result = []\n",
    "for (entity, freq) in sorted_people[:50]:\n",
    "    result.append((entity, freq, entities_file[entity], freq / len(entities_file[entity])))\n",
    "\n",
    "# Print entité, fréquence, nombre de fichiers dans lesquels il apparaît et ratio d'apparition\n",
    "print(list(map(lambda x: (x[0], x[1], len(x[2]), x[3]), result)))"
   ]
  },
  {
   "cell_type": "markdown",
   "metadata": {
    "jp-MarkdownHeadingCollapsed": true,
    "tags": []
   },
   "source": [
    "### Découvrir dans quels fichiers une entité de nom propre est nommée"
   ]
  },
  {
   "cell_type": "code",
   "execution_count": 101,
   "metadata": {},
   "outputs": [
    {
     "name": "stdout",
     "output_type": "stream",
     "text": [
      "{'Bxl_1930_Tome_II2_Part_3.txt', 'Bxl_1930_Tome_II2_Part_4.txt', 'Bxl_1950_Tome_III_Part_1.txt', 'Bxl_1950_Tome_III_Part_5.txt', 'Bxl_1970_Tome_RptAn_Part_6.txt', 'Bxl_1930_Tome_I_Part_2.txt', 'Bxl_1950_Tome_I_Part_3.txt', 'Bxl_1930_Tome_II2_Part_11.txt', 'Bxl_1939_Tome_I_Part_3.txt', 'Bxl_1910_Tome_I2_1_Part_1.txt', 'Bxl_1950_Tome_II_Part_7.txt', 'Bxl_1930_Tome_II1_Part_3.txt', 'Bxl_1950_Tome_II_Part_3.txt', 'Bxl_1950_Tome_I_Part_2.txt', 'Bxl_1939_Tome_I_Part_6.txt', 'Bxl_1900_Tome_I2_Part_3.txt', 'Bxl_1930_Tome_II2_Part_2.txt', 'Bxl_1930_Tome_I_Part_3.txt', 'Bxl_1930_Tome_I_Part_7.txt', 'Bxl_1939_Tome_III_Part_4.txt', 'Bxl_1939_Tome_II_Part_5.txt', 'Bxl_1939_Tome_I_Part_4.txt', 'Bxl_1950_Tome_I_Part_6.txt', 'Bxl_1939_Tome_III_Part_5.txt', 'Bxl_1930_Tome_I_Part_1.txt', 'Bxl_1939_Tome_II_Part_7.txt', 'Bxl_1939_Tome_II_Part_3.txt', 'Bxl_1939_Tome_III_Part_2.txt', 'Bxl_1950_Tome_III_Part_4.txt', 'Bxl_1930_Tome_II2_Part_9.txt', 'Bxl_1939_Tome_I_Part_1.txt', 'Bxl_1930_Tome_I_Part_8.txt', 'Bxl_1950_Tome_III_Part_6.txt', 'Bxl_1950_Tome_I_Part_5.txt', 'Bxl_1910_Tome_I2_1_Part_8.txt', 'Bxl_1950_Tome_I_Part_1.txt', 'Bxl_1950_Tome_II_Part_2.txt', 'Bxl_1930_Tome_II2_Part_10.txt', 'Bxl_1939_Tome_II_Part_1.txt', 'Bxl_1939_Tome_I_Part_2.txt', 'Bxl_1939_Tome_III_Part_3.txt', 'Bxl_1939_Tome_II_Part_2.txt', 'Bxl_1930_Tome_II1_Part_1.txt', 'Bxl_1930_Tome_II2_Part_5.txt', 'Bxl_1939_Tome_III_Part_1.txt', 'Bxl_1950_Tome_II_Part_1.txt', 'Bxl_1950_Tome_II_Part_8.txt', 'Bxl_1939_Tome_I_Part_5.txt', 'Bxl_1939_Tome_I_Part_8.txt', 'Bxl_1939_Tome_II_Part_4.txt', 'Bxl_1930_Tome_I_Part_9.txt', 'Bxl_1950_Tome_II_Part_4.txt', 'Bxl_1939_Tome_I_Part_7.txt', 'Bxl_1930_Tome_I_Part_4.txt', 'Bxl_1939_Tome_III_Part_6.txt', 'Bxl_1930_Tome_II2_Part_1.txt', 'Bxl_1950_Tome_I_Part_4.txt', 'Bxl_1950_Tome_III_Part_3.txt'}\n"
     ]
    }
   ],
   "source": [
    "name = \"Catteau\"\n",
    "\n",
    "def search(n):\n",
    "    for (word, _, files, _) in result:\n",
    "        if (fuzz.ratio(word, n) > 75):\n",
    "        # if (word == n):\n",
    "            return files\n",
    "    return \"Not found\"\n",
    "\n",
    "print(search(name)) "
   ]
  },
  {
   "cell_type": "markdown",
   "metadata": {
    "tags": []
   },
   "source": [
    "## Ensemble des entités de nom propre choisi pour l'analyse => Top 11 des entités les plus nommées"
   ]
  },
  {
   "cell_type": "markdown",
   "metadata": {},
   "source": [
    "### Filtrer par les 11 politiciens les plus nommés"
   ]
  },
  {
   "cell_type": "code",
   "execution_count": 225,
   "metadata": {},
   "outputs": [
    {
     "name": "stdout",
     "output_type": "stream",
     "text": [
      "[('Brunfaut', 1280), ('Lepage', 1124), ('Richald', 907), ('Bochart', 847), ('Vermeire', 835), ('De Mot', 713), (\"M. l'Echevin Coelst\", 587), ('Godefroy', 551), (\"M. l'Echevin Vauthier\", 540), ('Van de Meulebroeck', 478), ('Catteau', 475)]\n"
     ]
    }
   ],
   "source": [
    "dedup_sorted = sorted(list(dedup.items()), key=lambda x: x[1], reverse=True)\n",
    "dedup_sorted_top10 = dedup_sorted[:11]\n",
    "print(dedup_sorted_top10)\n",
    "\n",
    "# i = 0\n",
    "\n",
    "# for x in dedup:\n",
    "#     if i < 20 :\n",
    "#         print(x, dedup[x])\n",
    "#         i += 1"
   ]
  },
  {
   "cell_type": "code",
   "execution_count": 235,
   "metadata": {},
   "outputs": [
    {
     "name": "stdout",
     "output_type": "stream",
     "text": [
      "['Brunfaut', 'Lepage', 'Richald', 'Bochart', 'Vermeire', 'De Mot', \"M. l'Echevin Coelst\", 'Godefroy', \"M. l'Echevin Vauthier\", 'Van de Meulebroeck', 'Catteau']\n"
     ]
    }
   ],
   "source": [
    "def Extract(dedup_sorted_top10):\n",
    "    return [item[0] for item in dedup_sorted_top10]\n",
    "\n",
    "politician_named = Extract(dedup_sorted_top10)\n",
    "\n",
    "#print(politician_named)"
   ]
  },
  {
   "cell_type": "code",
   "execution_count": 236,
   "metadata": {},
   "outputs": [
    {
     "name": "stdout",
     "output_type": "stream",
     "text": [
      "[1280, 1124, 907, 847, 835, 713, 587, 551, 540, 478, 475]\n"
     ]
    }
   ],
   "source": [
    "def Extract(dedup_sorted_top10):\n",
    "    return [item[1] for item in dedup_sorted_top10]\n",
    "\n",
    "freq_named = Extract(dedup_sorted_top10)\n",
    "\n",
    "print(freq_named)"
   ]
  },
  {
   "cell_type": "markdown",
   "metadata": {
    "tags": []
   },
   "source": [
    "### Plot every politician appearence frequency"
   ]
  },
  {
   "cell_type": "code",
   "execution_count": 261,
   "metadata": {},
   "outputs": [
    {
     "data": {
      "image/png": "[encoded data removed]",
      "text/plain": [
       "<Figure size 2160x720 with 1 Axes>"
      ]
     },
     "metadata": {
      "needs_background": "light"
     },
     "output_type": "display_data"
    }
   ],
   "source": [
    "##city=['Delhi','Beijing','Washington','Tokyo','Moscow']\n",
    "pos = np.arange(len(politician_named))\n",
    "##Happiness_Index=[60,40,70,65,85]\n",
    "\n",
    "def addlabels(x,y):\n",
    "    for i in range(len(politician_named)):\n",
    "        plt.text(i, y[i], y[i], ha = 'center')\n",
    "\n",
    "addlabels(politician_named, freq_named)\n",
    "plt.bar(pos,freq_named, 0.5)\n",
    "plt.xticks(pos, politician_named)\n",
    "plt.xlabel('Politician', fontsize=20)\n",
    "plt.ylabel('Freq', fontsize=20)\n",
    "plt.title('Barchart - Freq des politician nommés',fontsize=20)\n",
    "plt.rcParams[\"figure.figsize\"] = (20,10)\n",
    "plt.show()"
   ]
  },
  {
   "cell_type": "markdown",
   "metadata": {
    "tags": []
   },
   "source": [
    "### Détecter combien de fois par an chaque politicien a été nommé"
   ]
  },
  {
   "cell_type": "code",
   "execution_count": 131,
   "metadata": {},
   "outputs": [
    {
     "name": "stdout",
     "output_type": "stream",
     "text": [
      "[('Brunfaut', {'1930': 18, '1939': 19, '1950': 17, '1920': 1}), ('Lepage', {'1890': 17, '1900': 14, '1950': 8, '1939': 19, '1960': 1, '1930': 19, '1880': 5, '1910': 5, '1970': 1}), ('Richald', {'1890': 18, '1880': 10, '1930': 1}), ('Bochart', {'1870': 13}), ('Vermeire', {'1930': 17, '1939': 20, '1950': 18, '1960': 4, '1920': 1}), ('De Mot', {'1930': 16, '1890': 17, '1950': 1, '1900': 8, '1910': 10, '1920': 7, '1870': 1, '1939': 1, '1880': 1, '1970': 1}), (\"M. l'Echevin Coelst\", {}), ('Godefroy', {'1870': 13, '1890': 15, '1880': 8, '1900': 3, '1860': 1, '1939': 2, '1910': 2}), (\"M. l'Echevin Vauthier\", {}), ('Van de Meulebroeck', {'1930': 13, '1950': 12, '1939': 18, '1960': 1}), ('Catteau', {'1930': 17, '1950': 17, '1970': 1, '1939': 20, '1910': 2, '1900': 1})]\n"
     ]
    }
   ],
   "source": [
    "def get_year(f):\n",
    "    return f.split(\"_\")[1]\n",
    "\n",
    "keywords_with_years = []\n",
    "for (keyword, _) in dedup_sorted_top10:\n",
    "    # keywords_with_years[keyword] = dict()\n",
    "    files = list(search(keyword))\n",
    "    years = list(map(lambda f: get_year(f), filter(lambda f: \"_\" in f and f.endswith(\"txt\"), files)))\n",
    "    bulletins_count = dict()\n",
    "    for year in years:\n",
    "        if year in bulletins_count.keys():\n",
    "            bulletins_count[year] += 1\n",
    "        else:\n",
    "            bulletins_count[year] = 1\n",
    "    keywords_with_years.append((keyword, bulletins_count))\n",
    "\n",
    "print(keywords_with_years)"
   ]
  },
  {
   "cell_type": "markdown",
   "metadata": {},
   "source": [
    "## Dans combien des fichiers, chaque politique a-t-il été nommé par an"
   ]
  },
  {
   "cell_type": "code",
   "execution_count": 286,
   "metadata": {},
   "outputs": [
    {
     "data": {
      "image/png": "[encoded data removed]",
      "text/plain": [
       "<Figure size 1440x720 with 1 Axes>"
      ]
     },
     "metadata": {
      "needs_background": "light"
     },
     "output_type": "display_data"
    }
   ],
   "source": [
    "import pandas, numpy as np \n",
    "plot_years = list([x[1].keys() for x in keywords_with_years])\n",
    "plot_years = sorted(set([item for sublist in plot_years for item in sublist]))\n",
    "bar_width = 0.5\n",
    "color=['black', 'red', 'green', 'blue', 'cyan', 'yellow', 'grey', 'orange', 'pink', 'darkviolet', 'skyblue', 'palegreen']\n",
    "\n",
    "bottom = list(map(lambda x: 0, plot_years))\n",
    "for i, tup in enumerate(keywords_with_years):\n",
    "    label = tup[0]\n",
    "    appearances = list()\n",
    "    for y in plot_years:\n",
    "        years = tup[1]\n",
    "        if y in years.keys():\n",
    "            appearances.append(years[y])\n",
    "        else:\n",
    "            appearances.append(0)\n",
    "    plt.bar(plot_years, appearances, bar_width, label=label, color=color[i], bottom=bottom)\n",
    "    bottom = list(map(lambda x: appearances[x[0]] + x[1], enumerate(bottom)))\n",
    "\n",
    "\n",
    "plt.xlabel(\"Années\")\n",
    "plt.ylabel(\"Nombre des fichiers\")\n",
    "plt.title(\"Nombre de fichiers nommant des entités politiques, par année\")\n",
    "plt.legend()\n",
    "plt.show()"
   ]
  },
  {
   "cell_type": "code",
   "execution_count": null,
   "metadata": {},
   "outputs": [],
   "source": []
  }
 ],
 "metadata": {
  "kernelspec": {
   "display_name": "Python 3 (ipykernel)",
   "language": "python",
   "name": "python3"
  },
  "language_info": {
   "codemirror_mode": {
    "name": "ipython",
    "version": 3
   },
   "file_extension": ".py",
   "mimetype": "text/x-python",
   "name": "python",
   "nbconvert_exporter": "python",
   "pygments_lexer": "ipython3",
   "version": "3.9.7"
  }
 },
 "nbformat": 4,
 "nbformat_minor": 4
}
