{
 "cells": [
  {
   "cell_type": "markdown",
   "metadata": {},
   "source": [
    "# Anonymisation de données"
   ]
  },
  {
   "cell_type": "markdown",
   "metadata": {},
   "source": [
    "## Imports"
   ]
  },
  {
   "cell_type": "code",
   "execution_count": 1,
   "metadata": {},
   "outputs": [],
   "source": [
    "from pprint import pprint\n",
    "from faker import Faker\n",
    "from faker.providers import internet"
   ]
  },
  {
   "cell_type": "markdown",
   "metadata": {},
   "source": [
    "\"Faker is a Python package that generates fake data for you. Whether you need to bootstrap your database, create good-looking XML documents, fill-in your persistence to stress test it, or anonymize data taken from a production service, Faker is for you.\"\n",
    "\n",
    "https://faker.readthedocs.io/en/master/"
   ]
  },
  {
   "cell_type": "markdown",
   "metadata": {},
   "source": [
    "\"Use `faker.Faker()` to create and initialize a faker generator, which can generate data by accessing properties named after the type of data you want.\""
   ]
  },
  {
   "cell_type": "code",
   "execution_count": 2,
   "metadata": {},
   "outputs": [],
   "source": [
    "fake = Faker()"
   ]
  },
  {
   "cell_type": "markdown",
   "metadata": {},
   "source": [
    "## Créer un faux nom"
   ]
  },
  {
   "cell_type": "code",
   "execution_count": 3,
   "metadata": {},
   "outputs": [
    {
     "name": "stdout",
     "output_type": "stream",
     "text": [
      "John Clark\n"
     ]
    }
   ],
   "source": [
    "print(fake.name())"
   ]
  },
  {
   "cell_type": "code",
   "execution_count": 4,
   "metadata": {},
   "outputs": [
    {
     "name": "stdout",
     "output_type": "stream",
     "text": [
      "Julien Nicolas\n",
      "Sophie Hamon-Vidal\n",
      "Valentine Le Peltier\n",
      "Julien Lebon-Traore\n",
      "Honoré Duhamel\n",
      "Gilbert Daniel\n",
      "Adèle Dumont Le Tanguy\n",
      "Margot Le Roux\n",
      "Raymond Torres de Michaud\n",
      "Gilles Traore\n"
     ]
    }
   ],
   "source": [
    "# Il est possible de créer plusieurs faux noms, ici en français, avec une boucle.\n",
    "fake_fr = Faker('fr_FR')\n",
    "for _ in range(10):\n",
    "    print(fake_fr.name())"
   ]
  },
  {
   "cell_type": "code",
   "execution_count": 5,
   "metadata": {},
   "outputs": [
    {
     "name": "stdout",
     "output_type": "stream",
     "text": [
      "Levi van de Ven\n",
      "Lisa Wolffel\n",
      "Mohammed van de Wiel\n",
      "Ayoub Knuf\n",
      "Sebastiaan de Jager-Furda\n",
      "Loes Höning\n",
      "Zeynep Groen\n",
      "Daan Zijlmans\n",
      "Guusje Kramer\n",
      "Meike Spiker-Koster\n"
     ]
    }
   ],
   "source": [
    "# Même chose en néerlandais.\n",
    "fake_nl = Faker('nl_NL')\n",
    "for _ in range(10):\n",
    "    print(fake_nl.name())"
   ]
  },
  {
   "cell_type": "markdown",
   "metadata": {},
   "source": [
    "## Créer une fausse adresse"
   ]
  },
  {
   "cell_type": "code",
   "execution_count": 6,
   "metadata": {},
   "outputs": [
    {
     "name": "stdout",
     "output_type": "stream",
     "text": [
      "008 Joseph Stravenue\n",
      "Port Christopher, NJ 20192\n"
     ]
    }
   ],
   "source": [
    "# Pour créer une fausse adresse.\n",
    "print(fake.address())"
   ]
  },
  {
   "cell_type": "markdown",
   "metadata": {},
   "source": [
    "## Créer une fausse adresse IP"
   ]
  },
  {
   "cell_type": "code",
   "execution_count": 7,
   "metadata": {},
   "outputs": [
    {
     "name": "stdout",
     "output_type": "stream",
     "text": [
      "88.214.90.224\n"
     ]
    }
   ],
   "source": [
    "fake.add_provider(internet)\n",
    "print(fake.ipv4_public())"
   ]
  },
  {
   "cell_type": "markdown",
   "metadata": {},
   "source": [
    "## Créer un faux profil complet"
   ]
  },
  {
   "cell_type": "code",
   "execution_count": 8,
   "metadata": {},
   "outputs": [
    {
     "name": "stdout",
     "output_type": "stream",
     "text": [
      "{'address': '85, avenue de Michel\\n13570 Prévost',\n",
      " 'birthdate': datetime.date(1993, 12, 31),\n",
      " 'mail': 'reneegautier@gmail.com',\n",
      " 'name': 'Philippe Perrin-Leconte',\n",
      " 'sex': 'M',\n",
      " 'username': 'marc60'}\n"
     ]
    }
   ],
   "source": [
    "profile = fake_fr.simple_profile()\n",
    "pprint(profile)"
   ]
  },
  {
   "cell_type": "code",
   "execution_count": null,
   "metadata": {},
   "outputs": [],
   "source": []
  }
 ],
 "metadata": {
  "kernelspec": {
   "display_name": "Python 3 (ipykernel)",
   "language": "python",
   "name": "python3"
  },
  "language_info": {
   "codemirror_mode": {
    "name": "ipython",
    "version": 3
   },
   "file_extension": ".py",
   "mimetype": "text/x-python",
   "name": "python",
   "nbconvert_exporter": "python",
   "pygments_lexer": "ipython3",
   "version": "3.9.7"
  }
 },
 "nbformat": 4,
 "nbformat_minor": 4
}
