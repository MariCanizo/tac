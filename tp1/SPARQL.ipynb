{
 "cells": [
  {
   "cell_type": "markdown",
   "id": "8981c50b-3846-4f4c-a6dd-89c90bdae29c",
   "metadata": {},
   "source": [
    "# Interroger Wikidata à l'aide de requêtes SPARQL"
   ]
  },
  {
   "cell_type": "markdown",
   "id": "2d0bf423-1b2c-4b16-847c-a3466511b690",
   "metadata": {},
   "source": [
    "## Imports"
   ]
  },
  {
   "cell_type": "code",
   "execution_count": 3,
   "id": "82e2b5cc-742e-4fba-adbf-a6b58ff7aac7",
   "metadata": {},
   "outputs": [],
   "source": [
    "from datetime import datetime as dt\n",
    "from SPARQLWrapper import SPARQLWrapper, JSON"
   ]
  },
  {
   "cell_type": "markdown",
   "id": "2a499f2a-cd3e-4c93-a4f9-12c770780758",
   "metadata": {},
   "source": [
    "## Les politiciens belges nés entre 1750 et 1960 et non décédés avant 1845."
   ]
  },
  {
   "cell_type": "code",
   "execution_count": 5,
   "id": "5a8db74d-97e6-48da-983b-5a3d00d07c49",
   "metadata": {},
   "outputs": [
    {
     "name": "stdout",
     "output_type": "stream",
     "text": [
      "\n",
      "4987 Belgian politicians found\n",
      "\n",
      "[{'person': {'type': 'uri', 'value': 'http://www.wikidata.org/entity/Q2459774'}, 'datedeath': {'datatype': 'http://www.w3.org/2001/XMLSchema#dateTime', 'type': 'literal', 'value': '1846-01-23T00:00:00Z'}, 'datebirth': {'datatype': 'http://www.w3.org/2001/XMLSchema#dateTime', 'type': 'literal', 'value': '1752-10-11T00:00:00Z'}, 'personLabel': {'type': 'literal', 'value': 'Q2459774'}}, {'person': {'type': 'uri', 'value': 'http://www.wikidata.org/entity/Q2059119'}, 'datedeath': {'datatype': 'http://www.w3.org/2001/XMLSchema#dateTime', 'type': 'literal', 'value': '1850-04-29T00:00:00Z'}, 'datebirth': {'datatype': 'http://www.w3.org/2001/XMLSchema#dateTime', 'type': 'literal', 'value': '1757-10-06T00:00:00Z'}, 'personLabel': {'type': 'literal', 'value': 'Q2059119'}}, {'person': {'type': 'uri', 'value': 'http://www.wikidata.org/entity/Q2067355'}, 'datedeath': {'datatype': 'http://www.w3.org/2001/XMLSchema#dateTime', 'type': 'literal', 'value': '1846-12-15T00:00:00Z'}, 'datebirth': {'datatype': 'http://www.w3.org/2001/XMLSchema#dateTime', 'type': 'literal', 'value': '1761-04-28T00:00:00Z'}, 'personLabel': {'type': 'literal', 'value': 'Q2067355'}}, {'person': {'type': 'uri', 'value': 'http://www.wikidata.org/entity/Q1979107'}, 'datedeath': {'datatype': 'http://www.w3.org/2001/XMLSchema#dateTime', 'type': 'literal', 'value': '1849-12-16T00:00:00Z'}, 'datebirth': {'datatype': 'http://www.w3.org/2001/XMLSchema#dateTime', 'type': 'literal', 'value': '1762-03-06T00:00:00Z'}, 'personLabel': {'type': 'literal', 'value': 'Q1979107'}}, {'person': {'type': 'uri', 'value': 'http://www.wikidata.org/entity/Q2190276'}, 'datedeath': {'datatype': 'http://www.w3.org/2001/XMLSchema#dateTime', 'type': 'literal', 'value': '1846-02-18T00:00:00Z'}, 'datebirth': {'datatype': 'http://www.w3.org/2001/XMLSchema#dateTime', 'type': 'literal', 'value': '1763-02-20T00:00:00Z'}, 'personLabel': {'type': 'literal', 'value': 'Q2190276'}}]\n"
     ]
    }
   ],
   "source": [
    "# Retrieve results from SPARQL\n",
    "endpoint = \"https://query.wikidata.org/bigdata/namespace/wdq/sparql\"\n",
    "sparql = SPARQLWrapper(endpoint)\n",
    "\n",
    "statement = \"\"\"\n",
    "SELECT ?person ?personLabel ?datebirth ?datedeath\n",
    "WHERE\n",
    "{\n",
    "  ?person wdt:P31 wd:Q5;\n",
    "          wdt:P569 ?datebirth;\n",
    "          wdt:P570 ?datedeath;\n",
    "          wdt:P27 wd:Q31;\n",
    "          wdt:P106 wd:Q82955;\n",
    "  FILTER(\"1750-01-01\"^^xsd:dateTime <= ?datebirth && ?datebirth < \"1960-01-01\"^^xsd:dateTime && ?datedeath > \"1845-01-01\"^^xsd:dateTime).\n",
    "  SERVICE wikibase:label { bd:serviceParam wikibase:language \"[AUTO_LANGUAGE]\". } \n",
    "}\n",
    "ORDER BY ASC(?datebirth)\n",
    "\"\"\"\n",
    "\n",
    "sparql.setQuery(statement)\n",
    "sparql.setReturnFormat(JSON)\n",
    "results = sparql.query().convert()\n",
    "\n",
    "rows = results['results']['bindings']\n",
    "print(f\"\\n{len(rows)} Belgian politicians found\\n\")\n",
    "print(rows[:5])"
   ]
  },
  {
   "cell_type": "markdown",
   "id": "fe4181e9-8340-4b61-89c0-9df20cad80a8",
   "metadata": {},
   "source": [
    "## Les politiciens belges et les postes qu'ils ont occupés"
   ]
  },
  {
   "cell_type": "code",
   "execution_count": 6,
   "id": "5f341fbe-36ea-47ac-8795-ae3179db1da6",
   "metadata": {},
   "outputs": [
    {
     "name": "stdout",
     "output_type": "stream",
     "text": [
      "\n",
      "5513 Belgian politicians postes found\n",
      "\n",
      "[{'person': {'type': 'uri', 'value': 'http://www.wikidata.org/entity/Q1029185'}, 'position': {'type': 'uri', 'value': 'http://www.wikidata.org/entity/Q6866254'}, 'personLabel': {'type': 'literal', 'value': 'Q1029185'}}, {'person': {'type': 'uri', 'value': 'http://www.wikidata.org/entity/Q1029185'}, 'position': {'type': 'uri', 'value': 'http://www.wikidata.org/entity/Q20054152'}, 'personLabel': {'type': 'literal', 'value': 'Q1029185'}}, {'person': {'type': 'uri', 'value': 'http://www.wikidata.org/entity/Q1029185'}, 'position': {'type': 'uri', 'value': 'http://www.wikidata.org/entity/Q24199589'}, 'personLabel': {'type': 'literal', 'value': 'Q1029185'}}, {'person': {'type': 'uri', 'value': 'http://www.wikidata.org/entity/Q1029306'}, 'position': {'type': 'uri', 'value': 'http://www.wikidata.org/entity/Q15705021'}, 'personLabel': {'type': 'literal', 'value': 'Q1029306'}}, {'person': {'type': 'uri', 'value': 'http://www.wikidata.org/entity/Q1029306'}, 'position': {'type': 'uri', 'value': 'http://www.wikidata.org/entity/Q17619252'}, 'personLabel': {'type': 'literal', 'value': 'Q1029306'}}]\n"
     ]
    }
   ],
   "source": [
    "# Retrieve results from SPARQL\n",
    "endpoint = \"https://query.wikidata.org/bigdata/namespace/wdq/sparql\"\n",
    "sparql = SPARQLWrapper(endpoint)\n",
    "\n",
    "statement = \"\"\"\n",
    "SELECT ?person ?personLabel ?position\n",
    "WHERE\n",
    "{\n",
    "  ?person wdt:P31 wd:Q5;\n",
    "          wdt:P569 ?datebirth;\n",
    "          wdt:P570 ?datedeath;\n",
    "          wdt:P27 wd:Q31;\n",
    "          wdt:P106 wd:Q82955;\n",
    "          wdt:P39 ?position.\n",
    "  FILTER(\"1750-01-01\"^^xsd:dateTime <= ?datebirth && ?datebirth < \"1960-01-01\"^^xsd:dateTime && ?datedeath > \"1845-01-01\"^^xsd:dateTime).\n",
    "  SERVICE wikibase:label { bd:serviceParam wikibase:language \"[AUTO_LANGUAGE]\". } \n",
    "}\n",
    "ORDER BY ASC(?personLabel)\n",
    "\"\"\"\n",
    "\n",
    "sparql.setQuery(statement)\n",
    "sparql.setReturnFormat(JSON)\n",
    "results = sparql.query().convert()\n",
    "\n",
    "rows = results['results']['bindings']\n",
    "print(f\"\\n{len(rows)} Belgian politicians postes found\\n\")\n",
    "print(rows[:5])"
   ]
  },
  {
   "cell_type": "code",
   "execution_count": null,
   "id": "ef7c26d6-a48b-471a-aa9a-e80125756f58",
   "metadata": {},
   "outputs": [],
   "source": []
  }
 ],
 "metadata": {
  "kernelspec": {
   "display_name": "Python 3 (ipykernel)",
   "language": "python",
   "name": "python3"
  },
  "language_info": {
   "codemirror_mode": {
    "name": "ipython",
    "version": 3
   },
   "file_extension": ".py",
   "mimetype": "text/x-python",
   "name": "python",
   "nbconvert_exporter": "python",
   "pygments_lexer": "ipython3",
   "version": "3.9.7"
  }
 },
 "nbformat": 4,
 "nbformat_minor": 5
}
