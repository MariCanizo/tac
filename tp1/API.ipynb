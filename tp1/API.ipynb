{
 "cells": [
  {
   "cell_type": "markdown",
   "id": "bf9f8fe4-2571-499e-bc51-923cd1b9386b",
   "metadata": {},
   "source": [
    "# APIs: requêtes HTTP"
   ]
  },
  {
   "cell_type": "markdown",
   "id": "02f55033-3db2-4349-893d-74fb225e521e",
   "metadata": {},
   "source": [
    "## Imports"
   ]
  },
  {
   "cell_type": "code",
   "execution_count": 1,
   "id": "7bf8824f-b3ea-4561-8e74-1e8cd8ee569c",
   "metadata": {},
   "outputs": [],
   "source": [
    "import requests\n",
    "import json\n",
    "import urllib.parse"
   ]
  },
  {
   "cell_type": "markdown",
   "id": "8199bc35-0a41-4033-aae0-47bb4330bc7a",
   "metadata": {},
   "source": [
    "## Text Summarization for text API"
   ]
  },
  {
   "cell_type": "code",
   "execution_count": 2,
   "id": "a15caa42-0ec9-4fc5-88e6-f67b04e08fff",
   "metadata": {},
   "outputs": [
    {
     "name": "stdout",
     "output_type": "stream",
     "text": [
      "{'sentences': ['The marsh fritillary (Euphydryas aurinia) is a species of butterfly of the family Nymphalidae, found in the Palearctic region.', 'These two marsh fritillaries were photographed in Dorset, England, while mating; the male is on the left of the image and the female on the right.']}\n"
     ]
    }
   ],
   "source": [
    "# https://rapidapi.com/textanalysis/api/text-summarization/\n",
    "# https://textsummarization.net/text-summarizer\n",
    "\n",
    "text = \"\"\"\n",
    "The marsh fritillary (Euphydryas aurinia) is a species of butterfly of the family Nymphalidae, found in the Palearctic region. \n",
    "Females are larger and less vibrant in color than males. \n",
    "Due to their short lifespan, females mate soon after they emerge from the chrysalis. \n",
    "They bear so many eggs that they crawl to nearby vegetation to start laying them, being unable to fly far until they are less burdened. \n",
    "These two marsh fritillaries were photographed in Dorset, England, while mating; the male is on the left of the image and the female on the right.\n",
    "\"\"\"\n",
    "\n",
    "sentnum = 2\n",
    "\n",
    "url = \"https://textanalysis-text-summarization.p.rapidapi.com/text-summarizer-text\"\n",
    "payload = f\"text={urllib.parse.quote(text)}&sentnum={sentnum}\"\n",
    "headers = {\n",
    "    'content-type': \"application/x-www-form-urlencoded\",\n",
    "    'x-rapidapi-host': \"textanalysis-text-summarization.p.rapidapi.com\",\n",
    "    'x-rapidapi-key': \"34a68177b9mshf42ab4098da941bp193ee6jsn511c38bf64ec\"\n",
    "    }\n",
    "\n",
    "response = requests.request(\"POST\", url, data=payload, headers=headers)\n",
    "\n",
    "result = json.loads(response.text)\n",
    "print(result)"
   ]
  }
 ],
 "metadata": {
  "kernelspec": {
   "display_name": "Python 3 (ipykernel)",
   "language": "python",
   "name": "python3"
  },
  "language_info": {
   "codemirror_mode": {
    "name": "ipython",
    "version": 3
   },
   "file_extension": ".py",
   "mimetype": "text/x-python",
   "name": "python",
   "nbconvert_exporter": "python",
   "pygments_lexer": "ipython3",
   "version": "3.9.7"
  }
 },
 "nbformat": 4,
 "nbformat_minor": 5
}
