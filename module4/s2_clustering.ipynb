{
 "cells": [
  {
   "cell_type": "markdown",
   "metadata": {},
   "source": [
    "# Clustering de documents"
   ]
  },
  {
   "cell_type": "markdown",
   "metadata": {},
   "source": [
    "## Imports"
   ]
  },
  {
   "cell_type": "code",
   "execution_count": 1,
   "metadata": {},
   "outputs": [],
   "source": [
    "import collections\n",
    "import os\n",
    "import string\n",
    "import sys\n",
    "\n",
    "import pandas as pd\n",
    "from nltk import word_tokenize\n",
    "from nltk.corpus import stopwords\n",
    "from pprint import pprint\n",
    "from sklearn.cluster import KMeans\n",
    "from sklearn.feature_extraction.text import TfidfVectorizer\n",
    "from sklearn.decomposition import PCA\n",
    "import numpy as np\n",
    "import matplotlib.pyplot as plt\n",
    "from scipy.spatial.distance import cosine"
   ]
  },
  {
   "cell_type": "code",
   "execution_count": 2,
   "metadata": {},
   "outputs": [
    {
     "name": "stderr",
     "output_type": "stream",
     "text": [
      "[nltk_data] Downloading package punkt to /root/nltk_data...\n",
      "[nltk_data]   Unzipping tokenizers/punkt.zip.\n"
     ]
    },
    {
     "data": {
      "text/plain": [
       "True"
      ]
     },
     "execution_count": 2,
     "metadata": {},
     "output_type": "execute_result"
    }
   ],
   "source": [
    "import nltk\n",
    "\n",
    "nltk.download('punkt')"
   ]
  },
  {
   "cell_type": "code",
   "execution_count": 3,
   "metadata": {},
   "outputs": [],
   "source": [
    "data_path = \"../data/txt/\""
   ]
  },
  {
   "cell_type": "markdown",
   "metadata": {},
   "source": [
    "## Choisir une décennie"
   ]
  },
  {
   "cell_type": "code",
   "execution_count": 4,
   "metadata": {},
   "outputs": [],
   "source": [
    "DECADE = '1950'"
   ]
  },
  {
   "cell_type": "markdown",
   "metadata": {},
   "source": [
    "## Charger tous les  fichiers de la décennie et en créer une liste de textes"
   ]
  },
  {
   "cell_type": "code",
   "execution_count": 5,
   "metadata": {},
   "outputs": [],
   "source": [
    "files = [f for f in sorted(os.listdir(data_path)) if f\"_{DECADE[:-1]}\" in f]"
   ]
  },
  {
   "cell_type": "code",
   "execution_count": 6,
   "metadata": {},
   "outputs": [
    {
     "data": {
      "text/plain": [
       "['Bxl_1950_Tome_III_Part_1.txt',\n",
       " 'Bxl_1950_Tome_III_Part_2.txt',\n",
       " 'Bxl_1950_Tome_III_Part_3.txt',\n",
       " 'Bxl_1950_Tome_III_Part_4.txt',\n",
       " 'Bxl_1950_Tome_III_Part_5.txt']"
      ]
     },
     "execution_count": 6,
     "metadata": {},
     "output_type": "execute_result"
    }
   ],
   "source": [
    "# Exemple de fichiers\n",
    "files[:5]"
   ]
  },
  {
   "cell_type": "code",
   "execution_count": 7,
   "metadata": {},
   "outputs": [],
   "source": [
    "texts = [open(data_path + f).read() for f in files]"
   ]
  },
  {
   "cell_type": "code",
   "execution_count": 8,
   "metadata": {},
   "outputs": [
    {
     "data": {
      "text/plain": [
       "'C O M P T E R E N D U D E L A SÉANCE D U 1 6 OCTOBRE 1 9 5 0 .\\n\\nVILLE\\n\\nDE BRUXELLES\\n\\nBULLETIN COMMUNAL\\nAnnée 1950\\nCONSEIL\\nSéance\\n\\nCOMMUNAL\\n\\ndu 16 octobre\\n\\n1950.\\n\\nP r é s i d e n c e de M . J . V A N D E M E U L E B R O E C K ,\\nBourgmestre.\\n\\nPAGES\\n\\nSOMMAIRE\\n1.\\n\\nCommunications\\n\\n2.\\n\\nD é c è s de M . F r a n ç o i s\\ncommunal\\n\\n3.\\n4.\\n\\n,\\nDe Ceuster, ancien\\n\\n904\\n\\nconseiller\\n905\\n\\nR è g l e m e n t de polic'"
      ]
     },
     "execution_count": 8,
     "metadata": {},
     "output_type": "execute_result"
    }
   ],
   "source": [
    "# Exemple de textes\n",
    "texts[0][:400]"
   ]
  },
  {
   "cell_type": "markdown",
   "metadata": {},
   "source": [
    "## Vectoriser les documents à l'aide de TF-IDF"
   ]
  },
  {
   "cell_type": "code",
   "execution_count": 9,
   "metadata": {},
   "outputs": [],
   "source": [
    "# Création d'une fonction de pré-traitement\n",
    "def preprocessing(text, stem=True):\n",
    "    \"\"\" Tokenize text and remove punctuation \"\"\"\n",
    "    text = text.translate(string.punctuation)\n",
    "    tokens = word_tokenize(text)\n",
    "    return tokens"
   ]
  },
  {
   "cell_type": "markdown",
   "metadata": {},
   "source": [
    "### Instancier le modèle TF-IDF avec ses arguments"
   ]
  },
  {
   "cell_type": "code",
   "execution_count": 10,
   "metadata": {},
   "outputs": [],
   "source": [
    "vectorizer = TfidfVectorizer(\n",
    "    tokenizer=preprocessing,\n",
    "    stop_words=stopwords.words('french'),\n",
    "    max_df=0.5,\n",
    "    min_df=0.1,\n",
    "    lowercase=True)"
   ]
  },
  {
   "cell_type": "markdown",
   "metadata": {},
   "source": [
    "### Construire la matrice de vecteurs à l'aide de la fonction `fit_transform`"
   ]
  },
  {
   "cell_type": "code",
   "execution_count": 11,
   "metadata": {},
   "outputs": [
    {
     "name": "stdout",
     "output_type": "stream",
     "text": [
      "CPU times: user 1min 51s, sys: 794 ms, total: 1min 52s\n",
      "Wall time: 1min 52s\n"
     ]
    }
   ],
   "source": [
    "%time tfidf_vectors = vectorizer.fit_transform(texts)"
   ]
  },
  {
   "cell_type": "code",
   "execution_count": 12,
   "metadata": {},
   "outputs": [
    {
     "data": {
      "text/plain": [
       "<207x6597 sparse matrix of type '<class 'numpy.float64'>'\n",
       "\twith 289051 stored elements in Compressed Sparse Row format>"
      ]
     },
     "execution_count": 12,
     "metadata": {},
     "output_type": "execute_result"
    }
   ],
   "source": [
    "# Détail de la matrice\n",
    "tfidf_vectors"
   ]
  },
  {
   "cell_type": "markdown",
   "metadata": {},
   "source": [
    "### Imprimer le vecteur tf-IDF du premier document"
   ]
  },
  {
   "cell_type": "code",
   "execution_count": 13,
   "metadata": {},
   "outputs": [
    {
     "data": {
      "text/plain": [
       "colportage    0.302382\n",
       "op            0.260316\n",
       "of            0.235646\n",
       "frs           0.210305\n",
       "thonet        0.164374\n",
       "                ...   \n",
       "démontre      0.000000\n",
       "démolition    0.000000\n",
       "démolir       0.000000\n",
       "démission     0.000000\n",
       "™             0.000000\n",
       "Length: 6597, dtype: float64"
      ]
     },
     "execution_count": 13,
     "metadata": {},
     "output_type": "execute_result"
    }
   ],
   "source": [
    "pd.Series(\n",
    "    tfidf_vectors[0].toarray()[0],\n",
    "    index=vectorizer.get_feature_names_out()\n",
    "    ).sort_values(ascending=False)\n",
    "\n",
    "# Resultado rellena la matriz y rankea por palabras más pertinentes"
   ]
  },
  {
   "cell_type": "markdown",
   "metadata": {},
   "source": [
    "## Comprendre les vecteurs et leurs \"distances\""
   ]
  },
  {
   "cell_type": "code",
   "execution_count": 14,
   "metadata": {},
   "outputs": [
    {
     "data": {
      "text/plain": [
       "0"
      ]
     },
     "execution_count": 14,
     "metadata": {},
     "output_type": "execute_result"
    }
   ],
   "source": [
    "# Cuanto más parecidos son los vectores, más cerca están entre sí, entonces menos distacia hay entre ellos\n",
    "cosine([1, 2, 3], [1, 2, 3])"
   ]
  },
  {
   "cell_type": "code",
   "execution_count": 15,
   "metadata": {},
   "outputs": [
    {
     "data": {
      "text/plain": [
       "0.02004211298777725"
      ]
     },
     "execution_count": 15,
     "metadata": {},
     "output_type": "execute_result"
    }
   ],
   "source": [
    "cosine([1, 2, 3], [1, 2, 2])"
   ]
  },
  {
   "cell_type": "code",
   "execution_count": 16,
   "metadata": {},
   "outputs": [
    {
     "data": {
      "text/plain": [
       "0.07417990022744858"
      ]
     },
     "execution_count": 16,
     "metadata": {},
     "output_type": "execute_result"
    }
   ],
   "source": [
    "cosine([1, 2, 3], [2, 2, 2])"
   ]
  },
  {
   "cell_type": "markdown",
   "metadata": {},
   "source": [
    "### Tests sur nos documents"
   ]
  },
  {
   "cell_type": "code",
   "execution_count": 17,
   "metadata": {},
   "outputs": [],
   "source": [
    "tfidf_array = tfidf_vectors.toarray()"
   ]
  },
  {
   "cell_type": "code",
   "execution_count": 18,
   "metadata": {},
   "outputs": [
    {
     "data": {
      "text/plain": [
       "array([0.00696838, 0.0047295 , 0.        , ..., 0.        , 0.        ,\n",
       "       0.        ])"
      ]
     },
     "execution_count": 18,
     "metadata": {},
     "output_type": "execute_result"
    }
   ],
   "source": [
    "# Vecteur du document 0\n",
    "tfidf_array[0]"
   ]
  },
  {
   "cell_type": "code",
   "execution_count": 19,
   "metadata": {},
   "outputs": [
    {
     "data": {
      "text/plain": [
       "array([0.00614595, 0.02085653, 0.00703494, ..., 0.        , 0.        ,\n",
       "       0.        ])"
      ]
     },
     "execution_count": 19,
     "metadata": {},
     "output_type": "execute_result"
    }
   ],
   "source": [
    "# Vecteur du document 1\n",
    "tfidf_array[1]"
   ]
  },
  {
   "cell_type": "code",
   "execution_count": 22,
   "metadata": {},
   "outputs": [
    {
     "data": {
      "text/plain": [
       "0.7602977918168845"
      ]
     },
     "execution_count": 22,
     "metadata": {},
     "output_type": "execute_result"
    }
   ],
   "source": [
    "cosine(tfidf_array[0], tfidf_array[20])"
   ]
  },
  {
   "cell_type": "markdown",
   "metadata": {},
   "source": [
    "## Appliquer un algorithme de clustering sur les vecteurs TF-IDF des documents"
   ]
  },
  {
   "cell_type": "markdown",
   "metadata": {},
   "source": [
    "Pour en savoir plus sur le KMeans clustering :\n",
    "- https://medium.com/dataseries/k-means-clustering-explained-visually-in-5-minutes-b900cc69d175"
   ]
  },
  {
   "cell_type": "markdown",
   "metadata": {},
   "source": [
    "### Définir un nombre de clusters"
   ]
  },
  {
   "cell_type": "code",
   "execution_count": 49,
   "metadata": {},
   "outputs": [],
   "source": [
    "N_CLUSTERS = 3"
   ]
  },
  {
   "cell_type": "markdown",
   "metadata": {},
   "source": [
    "### Instancier le modèle K-Means et ses arguments"
   ]
  },
  {
   "cell_type": "code",
   "execution_count": 50,
   "metadata": {},
   "outputs": [],
   "source": [
    "km_model = KMeans(n_clusters=N_CLUSTERS)"
   ]
  },
  {
   "cell_type": "markdown",
   "metadata": {},
   "source": [
    "### Appliquer le clustering à l'aide de la fonction `fit_predict`"
   ]
  },
  {
   "cell_type": "code",
   "execution_count": 51,
   "metadata": {},
   "outputs": [],
   "source": [
    "clusters = km_model.fit_predict(tfidf_vectors)"
   ]
  },
  {
   "cell_type": "code",
   "execution_count": 52,
   "metadata": {},
   "outputs": [],
   "source": [
    "clustering = collections.defaultdict(list)\n",
    "\n",
    "for idx, label in enumerate(clusters):\n",
    "    clustering[label].append(files[idx])"
   ]
  },
  {
   "cell_type": "code",
   "execution_count": 53,
   "metadata": {},
   "outputs": [
    {
     "name": "stdout",
     "output_type": "stream",
     "text": [
      "{0: ['Bxl_1950_Tome_III_Part_1.txt',\n",
      "     'Bxl_1950_Tome_III_Part_2.txt',\n",
      "     'Bxl_1950_Tome_III_Part_3.txt',\n",
      "     'Bxl_1950_Tome_III_Part_4.txt',\n",
      "     'Bxl_1950_Tome_III_Part_5.txt',\n",
      "     'Bxl_1950_Tome_II_Part_1.txt',\n",
      "     'Bxl_1950_Tome_II_Part_2.txt',\n",
      "     'Bxl_1950_Tome_II_Part_3.txt',\n",
      "     'Bxl_1950_Tome_I_Part_1.txt',\n",
      "     'Bxl_1950_Tome_I_Part_2.txt',\n",
      "     'Bxl_1950_Tome_I_Part_3.txt',\n",
      "     'Bxl_1950_Tome_I_Part_4.txt',\n",
      "     'Bxl_1950_Tome_I_Part_5.txt',\n",
      "     'Bxl_1950_Tome_I_Part_6.txt',\n",
      "     'Bxl_1951_Tome_II_Part_1.txt',\n",
      "     'Bxl_1951_Tome_II_Part_10.txt',\n",
      "     'Bxl_1951_Tome_II_Part_12.txt',\n",
      "     'Bxl_1951_Tome_II_Part_13.txt',\n",
      "     'Bxl_1951_Tome_II_Part_14.txt',\n",
      "     'Bxl_1951_Tome_II_Part_15.txt',\n",
      "     'Bxl_1951_Tome_II_Part_16.txt',\n",
      "     'Bxl_1951_Tome_II_Part_2.txt',\n",
      "     'Bxl_1951_Tome_II_Part_3.txt',\n",
      "     'Bxl_1951_Tome_I_Part_1.txt',\n",
      "     'Bxl_1951_Tome_I_Part_2.txt',\n",
      "     'Bxl_1951_Tome_I_Part_3.txt',\n",
      "     'Bxl_1951_Tome_I_Part_4.txt',\n",
      "     'Bxl_1951_Tome_I_Part_5.txt',\n",
      "     'Bxl_1952_Tome_III_Part_1.txt',\n",
      "     'Bxl_1952_Tome_III_Part_2.txt',\n",
      "     'Bxl_1952_Tome_III_Part_3.txt',\n",
      "     'Bxl_1952_Tome_III_Part_4.txt',\n",
      "     'Bxl_1952_Tome_II_Part_1.txt',\n",
      "     'Bxl_1952_Tome_II_Part_2.txt',\n",
      "     'Bxl_1952_Tome_II_Part_3.txt',\n",
      "     'Bxl_1952_Tome_I_Part_1.txt',\n",
      "     'Bxl_1952_Tome_I_Part_2.txt',\n",
      "     'Bxl_1952_Tome_I_Part_3.txt',\n",
      "     'Bxl_1952_Tome_I_Part_4.txt',\n",
      "     'Bxl_1952_Tome_I_Part_5.txt',\n",
      "     'Bxl_1952_Tome_I_Part_6.txt',\n",
      "     'Bxl_1952_Tome_I_Part_7.txt',\n",
      "     'Bxl_1953_Tome_III_Part_1.txt',\n",
      "     'Bxl_1953_Tome_III_Part_2.txt',\n",
      "     'Bxl_1953_Tome_III_Part_3.txt',\n",
      "     'Bxl_1953_Tome_III_Part_4.txt',\n",
      "     'Bxl_1953_Tome_III_Part_5.txt',\n",
      "     'Bxl_1953_Tome_III_Part_6.txt',\n",
      "     'Bxl_1953_Tome_III_Part_7.txt',\n",
      "     'Bxl_1953_Tome_II_Part_1.txt',\n",
      "     'Bxl_1953_Tome_II_Part_2.txt',\n",
      "     'Bxl_1953_Tome_II_Part_3.txt',\n",
      "     'Bxl_1953_Tome_I_Part_1.txt',\n",
      "     'Bxl_1953_Tome_I_Part_10.txt',\n",
      "     'Bxl_1953_Tome_I_Part_11.txt',\n",
      "     'Bxl_1953_Tome_I_Part_12.txt',\n",
      "     'Bxl_1953_Tome_I_Part_2.txt',\n",
      "     'Bxl_1953_Tome_I_Part_4.txt',\n",
      "     'Bxl_1953_Tome_I_Part_6.txt',\n",
      "     'Bxl_1953_Tome_I_Part_7.txt',\n",
      "     'Bxl_1953_Tome_I_Part_8.txt',\n",
      "     'Bxl_1953_Tome_I_Part_9.txt',\n",
      "     'Bxl_1954_Tome_III_Part_1.txt',\n",
      "     'Bxl_1954_Tome_III_Part_2.txt',\n",
      "     'Bxl_1954_Tome_III_Part_3.txt',\n",
      "     'Bxl_1954_Tome_III_Part_4.txt',\n",
      "     'Bxl_1954_Tome_III_Part_5.txt',\n",
      "     'Bxl_1954_Tome_III_Part_6.txt',\n",
      "     'Bxl_1954_Tome_III_Part_7.txt',\n",
      "     'Bxl_1954_Tome_II_Part_1.txt',\n",
      "     'Bxl_1954_Tome_II_Part_2.txt',\n",
      "     'Bxl_1954_Tome_II_Part_3.txt',\n",
      "     'Bxl_1954_Tome_I_Part_1.txt',\n",
      "     'Bxl_1954_Tome_I_Part_2.txt',\n",
      "     'Bxl_1954_Tome_I_Part_3.txt',\n",
      "     'Bxl_1954_Tome_I_Part_4.txt',\n",
      "     'Bxl_1954_Tome_I_Part_5.txt',\n",
      "     'Bxl_1954_Tome_I_Part_6.txt',\n",
      "     'Bxl_1954_Tome_I_Part_7.txt',\n",
      "     'Bxl_1954_Tome_I_Part_8.txt',\n",
      "     'Bxl_1954_Tome_I_Part_9.txt',\n",
      "     'Bxl_1955_Tome_II1_Part_1.txt',\n",
      "     'Bxl_1955_Tome_II1_Part_2.txt',\n",
      "     'Bxl_1955_Tome_II1_Part_3.txt',\n",
      "     'Bxl_1955_Tome_II1_Part_4.txt',\n",
      "     'Bxl_1955_Tome_II2_Part_1.txt',\n",
      "     'Bxl_1955_Tome_II2_Part_2.txt',\n",
      "     'Bxl_1955_Tome_II2_Part_3.txt',\n",
      "     'Bxl_1955_Tome_II2_Part_7.txt',\n",
      "     'Bxl_1955_Tome_I_Part_1.txt',\n",
      "     'Bxl_1955_Tome_I_Part_2.txt',\n",
      "     'Bxl_1955_Tome_I_Part_3.txt',\n",
      "     'Bxl_1955_Tome_I_Part_4.txt',\n",
      "     'Bxl_1955_Tome_I_Part_5.txt',\n",
      "     'Bxl_1955_Tome_I_Part_6.txt',\n",
      "     'Bxl_1955_Tome_I_Part_7.txt',\n",
      "     'Bxl_1955_Tome_I_Part_8.txt',\n",
      "     'Bxl_1955_Tome_I_Part_9.txt',\n",
      "     'Bxl_1956_Tome_II1_Part_1.txt',\n",
      "     'Bxl_1956_Tome_II1_Part_4.txt',\n",
      "     'Bxl_1956_Tome_II2_Part_7.txt',\n",
      "     'Bxl_1956_Tome_I_Part_11.txt',\n",
      "     'Bxl_1957_Tome_I_Part_2.txt',\n",
      "     'Bxl_1957_Tome_I_Part_3.txt',\n",
      "     'Bxl_1957_Tome_I_Part_5.txt',\n",
      "     'Bxl_1957_Tome_I_Part_8.txt',\n",
      "     'Bxl_1957_Tome_I_Part_9.txt',\n",
      "     'Bxl_1958_Tome_II_Part_9.txt',\n",
      "     'Bxl_1958_Tome_I_Part_4.txt',\n",
      "     'Bxl_1958_Tome_I_Part_7.txt',\n",
      "     'Bxl_1958_Tome_I_Part_8.txt',\n",
      "     'Bxl_1959_Tome_II1_Part_1.txt',\n",
      "     'Bxl_1959_Tome_II1_Part_4.txt',\n",
      "     'Bxl_1959_Tome_II1_Part_5.txt',\n",
      "     'Bxl_1959_Tome_II1_Part_6.txt',\n",
      "     'Bxl_1959_Tome_II1_Part_7.txt',\n",
      "     'Bxl_1959_Tome_II1_Part_8.txt',\n",
      "     'Bxl_1959_Tome_II2_Part_1.txt',\n",
      "     'Bxl_1959_Tome_II2_Part_2.txt',\n",
      "     'Bxl_1959_Tome_II2_Part_3.txt',\n",
      "     'Bxl_1959_Tome_II2_Part_4.txt',\n",
      "     'Bxl_1959_Tome_II2_Part_5.txt',\n",
      "     'Bxl_1959_Tome_II2_Part_6.txt',\n",
      "     'Bxl_1959_Tome_II2_Part_7.txt',\n",
      "     'Bxl_1959_Tome_I_Part_1.txt',\n",
      "     'Bxl_1959_Tome_I_Part_11.txt',\n",
      "     'Bxl_1959_Tome_I_Part_3.txt',\n",
      "     'Bxl_1959_Tome_I_Part_8.txt',\n",
      "     'Bxl_1959_Tome_I_Part_9.txt'],\n",
      " 1: ['Bxl_1950_Tome_II_Part_10.txt',\n",
      "     'Bxl_1950_Tome_II_Part_4.txt',\n",
      "     'Bxl_1950_Tome_II_Part_5.txt',\n",
      "     'Bxl_1950_Tome_II_Part_6.txt',\n",
      "     'Bxl_1950_Tome_II_Part_7.txt',\n",
      "     'Bxl_1950_Tome_II_Part_8.txt',\n",
      "     'Bxl_1950_Tome_II_Part_9.txt',\n",
      "     'Bxl_1951_Tome_II_Part_11.txt',\n",
      "     'Bxl_1951_Tome_II_Part_4.txt',\n",
      "     'Bxl_1951_Tome_II_Part_5.txt',\n",
      "     'Bxl_1951_Tome_II_Part_6.txt',\n",
      "     'Bxl_1951_Tome_II_Part_7.txt',\n",
      "     'Bxl_1951_Tome_II_Part_8.txt',\n",
      "     'Bxl_1951_Tome_II_Part_9.txt',\n",
      "     'Bxl_1952_Tome_II_Part_10.txt',\n",
      "     'Bxl_1952_Tome_II_Part_4.txt',\n",
      "     'Bxl_1952_Tome_II_Part_5.txt',\n",
      "     'Bxl_1952_Tome_II_Part_6.txt',\n",
      "     'Bxl_1952_Tome_II_Part_7.txt',\n",
      "     'Bxl_1952_Tome_II_Part_8.txt',\n",
      "     'Bxl_1952_Tome_II_Part_9.txt',\n",
      "     'Bxl_1952_Tome_I_Part_9.txt',\n",
      "     'Bxl_1953_Tome_II_Part_4.txt',\n",
      "     'Bxl_1953_Tome_II_Part_5.txt',\n",
      "     'Bxl_1953_Tome_II_Part_6.txt',\n",
      "     'Bxl_1953_Tome_II_Part_7.txt',\n",
      "     'Bxl_1953_Tome_II_Part_8.txt',\n",
      "     'Bxl_1953_Tome_II_Part_9.txt',\n",
      "     'Bxl_1953_Tome_I_Part_3.txt',\n",
      "     'Bxl_1953_Tome_I_Part_5.txt',\n",
      "     'Bxl_1954_Tome_II_Part_10.txt',\n",
      "     'Bxl_1954_Tome_II_Part_4.txt',\n",
      "     'Bxl_1954_Tome_II_Part_5.txt',\n",
      "     'Bxl_1954_Tome_II_Part_6.txt',\n",
      "     'Bxl_1954_Tome_II_Part_7.txt',\n",
      "     'Bxl_1954_Tome_II_Part_8.txt',\n",
      "     'Bxl_1954_Tome_II_Part_9.txt',\n",
      "     'Bxl_1955_Tome_II1_Part_10.txt',\n",
      "     'Bxl_1955_Tome_II1_Part_11.txt',\n",
      "     'Bxl_1955_Tome_II1_Part_12.txt',\n",
      "     'Bxl_1955_Tome_II1_Part_5.txt',\n",
      "     'Bxl_1955_Tome_II1_Part_6.txt',\n",
      "     'Bxl_1955_Tome_II1_Part_7.txt',\n",
      "     'Bxl_1955_Tome_II1_Part_8.txt',\n",
      "     'Bxl_1955_Tome_II1_Part_9.txt',\n",
      "     'Bxl_1956_Tome_II1_Part_7.txt',\n",
      "     'Bxl_1957_Tome_II1_Part_11.txt',\n",
      "     'Bxl_1957_Tome_II1_Part_12.txt',\n",
      "     'Bxl_1959_Tome_RptAn_Part_1.txt',\n",
      "     'Bxl_1959_Tome_RptAn_Part_10.txt',\n",
      "     'Bxl_1959_Tome_RptAn_Part_3.txt',\n",
      "     'Bxl_1959_Tome_RptAn_Part_5.txt',\n",
      "     'Bxl_1959_Tome_RptAn_Part_6.txt',\n",
      "     'Bxl_1959_Tome_RptAn_Part_7.txt',\n",
      "     'Bxl_1959_Tome_RptAn_Part_8.txt',\n",
      "     'Bxl_1959_Tome_RptAn_Part_9.txt'],\n",
      " 2: ['Bxl_1950_Tome_III_Part_6.txt',\n",
      "     'Bxl_1950_Tome_III_Part_7.txt',\n",
      "     'Bxl_1950_Tome_I_Part_7.txt',\n",
      "     'Bxl_1950_Tome_I_Part_8.txt',\n",
      "     'Bxl_1951_Tome_II_Part_17.txt',\n",
      "     'Bxl_1951_Tome_II_Part_18.txt',\n",
      "     'Bxl_1951_Tome_I_Part_6.txt',\n",
      "     'Bxl_1951_Tome_I_Part_7.txt',\n",
      "     'Bxl_1952_Tome_III_Part_5.txt',\n",
      "     'Bxl_1952_Tome_III_Part_6.txt',\n",
      "     'Bxl_1952_Tome_I_Part_8.txt',\n",
      "     'Bxl_1953_Tome_III_Part_8.txt',\n",
      "     'Bxl_1953_Tome_III_Part_9.txt',\n",
      "     'Bxl_1953_Tome_I_Part_13.txt',\n",
      "     'Bxl_1954_Tome_III_Part_8.txt',\n",
      "     'Bxl_1954_Tome_III_Part_9.txt',\n",
      "     'Bxl_1954_Tome_I_Part_10.txt',\n",
      "     'Bxl_1955_Tome_I_Part_10.txt',\n",
      "     'Bxl_1956_Tome_II2_Part_11.txt',\n",
      "     'Bxl_1959_Tome_II2_Part_10.txt',\n",
      "     'Bxl_1959_Tome_II2_Part_8.txt',\n",
      "     'Bxl_1959_Tome_II2_Part_9.txt']}\n"
     ]
    }
   ],
   "source": [
    "pprint(dict(clustering))"
   ]
  },
  {
   "cell_type": "markdown",
   "metadata": {},
   "source": [
    "## Visualiser les clusters"
   ]
  },
  {
   "cell_type": "markdown",
   "metadata": {},
   "source": [
    "### Réduire les vecteurs à 2 dimensions à l'aide de l'algorithme PCA\n",
    "Cette étape est nécessaire afin de visualiser les documents dans un espace 2D\n",
    "\n",
    "https://fr.wikipedia.org/wiki/Analyse_en_composantes_principales"
   ]
  },
  {
   "cell_type": "code",
   "execution_count": 54,
   "metadata": {},
   "outputs": [],
   "source": [
    "pca = PCA(n_components=2)\n",
    "reduced_vectors = pca.fit_transform(tfidf_vectors.toarray())"
   ]
  },
  {
   "cell_type": "code",
   "execution_count": 55,
   "metadata": {},
   "outputs": [
    {
     "data": {
      "text/plain": [
       "array([[-0.19014942,  0.1422904 ],\n",
       "       [-0.07201696, -0.05569398],\n",
       "       [-0.17079649,  0.19875137],\n",
       "       [-0.1607557 ,  0.11065278],\n",
       "       [-0.21790838,  0.17102085],\n",
       "       [ 0.06944923,  0.53028103],\n",
       "       [ 0.1963417 ,  0.6171081 ],\n",
       "       [-0.16036086,  0.05128986],\n",
       "       [ 0.22740935,  0.01075924],\n",
       "       [-0.11688464,  0.10775951]])"
      ]
     },
     "execution_count": 55,
     "metadata": {},
     "output_type": "execute_result"
    }
   ],
   "source": [
    "reduced_vectors[:10]"
   ]
  },
  {
   "cell_type": "markdown",
   "metadata": {},
   "source": [
    "### Générer le plot"
   ]
  },
  {
   "cell_type": "code",
   "execution_count": 56,
   "metadata": {},
   "outputs": [
    {
     "data": {
      "text/plain": [
       "<matplotlib.legend.Legend at 0x7f2feaf97be0>"
      ]
     },
     "execution_count": 56,
     "metadata": {},
     "output_type": "execute_result"
    },
    {
     "data": {
      "image/png": "[encoded data removed]",
      "text/plain": [
       "<Figure size 720x720 with 1 Axes>"
      ]
     },
     "metadata": {
      "needs_background": "light"
     },
     "output_type": "display_data"
    }
   ],
   "source": [
    "x_axis = reduced_vectors[:, 0]\n",
    "y_axis = reduced_vectors[:, 1]\n",
    "\n",
    "plt.figure(figsize=(10,10))\n",
    "scatter = plt.scatter(x_axis, y_axis, s=100, c=clusters)\n",
    "\n",
    "# Ajouter les centroïdes\n",
    "centroids = pca.transform(km_model.cluster_centers_)\n",
    "plt.scatter(centroids[:, 0], centroids[:, 1],  marker = \"x\", s=100, linewidths = 2, color='red')\n",
    "\n",
    "# Ajouter la légende\n",
    "plt.legend(handles=scatter.legend_elements()[0], labels=set(clusters), title=\"Clusters\")"
   ]
  },
  {
   "cell_type": "code",
   "execution_count": null,
   "metadata": {},
   "outputs": [],
   "source": [
    "# A partir de este análisis, lo ideal sería ir a ver cuáles son los términos que se repiten por cluster y ver si realmente\n",
    "# tienen sentido"
   ]
  }
 ],
 "metadata": {
  "kernelspec": {
   "display_name": "Python 3 (ipykernel)",
   "language": "python",
   "name": "python3"
  },
  "language_info": {
   "codemirror_mode": {
    "name": "ipython",
    "version": 3
   },
   "file_extension": ".py",
   "mimetype": "text/x-python",
   "name": "python",
   "nbconvert_exporter": "python",
   "pygments_lexer": "ipython3",
   "version": "3.9.7"
  }
 },
 "nbformat": 4,
 "nbformat_minor": 4
}
