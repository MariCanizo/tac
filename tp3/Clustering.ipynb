{
 "cells": [
  {
   "cell_type": "markdown",
   "id": "ebc2365b-d9a6-4f4a-9408-6a544e03ff3a",
   "metadata": {},
   "source": [
    "# Clustering des bulletins de décennie 1890"
   ]
  },
  {
   "cell_type": "markdown",
   "id": "572f22ed-c6a3-403f-9e28-4e3f59574025",
   "metadata": {},
   "source": [
    "## Imports"
   ]
  },
  {
   "cell_type": "code",
   "execution_count": 2,
   "id": "1ea360c5-cc5e-4550-93a7-490175aad3d9",
   "metadata": {},
   "outputs": [],
   "source": [
    "import collections\n",
    "import os\n",
    "import string\n",
    "import sys\n",
    "\n",
    "import pandas as pd\n",
    "from nltk import word_tokenize\n",
    "from nltk.corpus import stopwords\n",
    "from pprint import pprint\n",
    "from sklearn.cluster import KMeans\n",
    "from sklearn.feature_extraction.text import TfidfVectorizer\n",
    "from sklearn.decomposition import PCA\n",
    "import numpy as np\n",
    "import matplotlib.pyplot as plt\n",
    "from scipy.spatial.distance import cosine"
   ]
  },
  {
   "cell_type": "code",
   "execution_count": 3,
   "id": "2700393e-0f06-47af-ad01-674584896050",
   "metadata": {},
   "outputs": [
    {
     "name": "stderr",
     "output_type": "stream",
     "text": [
      "[nltk_data] Downloading package punkt to /root/nltk_data...\n",
      "[nltk_data]   Package punkt is already up-to-date!\n"
     ]
    },
    {
     "data": {
      "text/plain": [
       "True"
      ]
     },
     "execution_count": 3,
     "metadata": {},
     "output_type": "execute_result"
    }
   ],
   "source": [
    "import nltk\n",
    "\n",
    "nltk.download('punkt')"
   ]
  },
  {
   "cell_type": "markdown",
   "id": "998cc8cc-47a9-424e-b981-91e011f135e9",
   "metadata": {},
   "source": [
    "## Load data et choisir une décennie"
   ]
  },
  {
   "cell_type": "code",
   "execution_count": 4,
   "id": "0e67056a-d30f-4ffe-ab9f-51e4bc8fa710",
   "metadata": {},
   "outputs": [],
   "source": [
    "data_path = \"../data/txt/\""
   ]
  },
  {
   "cell_type": "code",
   "execution_count": 8,
   "id": "584878aa-396a-49de-8228-178af08cd465",
   "metadata": {},
   "outputs": [],
   "source": [
    "DECADE = '1890'"
   ]
  },
  {
   "cell_type": "markdown",
   "id": "815dbf47-093a-430c-9ba8-7aab93b7071f",
   "metadata": {},
   "source": [
    "## Charger tous les fichiers de la décennie et en créer une liste de textes"
   ]
  },
  {
   "cell_type": "code",
   "execution_count": 9,
   "id": "bf432cf0-1205-45f9-a752-63328cc1f761",
   "metadata": {},
   "outputs": [],
   "source": [
    "files = [f for f in sorted(os.listdir(data_path)) if f\"_{DECADE[:-1]}\" in f]"
   ]
  },
  {
   "cell_type": "code",
   "execution_count": 10,
   "id": "47653e06-16f8-45aa-8e15-4a8e571f1cd5",
   "metadata": {},
   "outputs": [
    {
     "data": {
      "text/plain": [
       "['Bxl_1890_Tome_I1_Part_1.txt',\n",
       " 'Bxl_1890_Tome_I1_Part_2.txt',\n",
       " 'Bxl_1890_Tome_I1_Part_3.txt',\n",
       " 'Bxl_1890_Tome_I1_Part_4.txt',\n",
       " 'Bxl_1890_Tome_I1_Part_5.txt']"
      ]
     },
     "execution_count": 10,
     "metadata": {},
     "output_type": "execute_result"
    }
   ],
   "source": [
    "# Exemple de fichiers\n",
    "files[:5]"
   ]
  },
  {
   "cell_type": "code",
   "execution_count": 13,
   "id": "946a5a2e-140a-49d6-bb3d-df7c7f34fcf2",
   "metadata": {},
   "outputs": [
    {
     "data": {
      "text/plain": [
       "\"COMPTE RENDU DE LA SÉANCE DU 27 JANVIER 1890.\\n\\nN° 1.\\n\\nVILLE DE BRUXELLES.\\n\\nBULLETIN C O M M U N A L\\nA N N É E\\n\\nCONSEIL\\n\\n1890.\\n\\nCOMMUNAL.\\n\\nSéance du 27 Janvier\\nPrésidence de M . JBULS,\\n\\n1890.\\nBourgmestre.\\n\\nSOMMAIRE :\\n\\n1. Concours musical pour le p r i x do Rome. — Lauréat. — Remise\\nd'un souvenir à M . Paul Gilson.\\n1A. Communications.\\n2. 25 anniversaire de l'inauguration de Léopold II. — Communicati\""
      ]
     },
     "execution_count": 13,
     "metadata": {},
     "output_type": "execute_result"
    }
   ],
   "source": [
    "texts = [open(data_path + f).read() for f in files]\n",
    "\n",
    "# Exemple de textes\n",
    "texts[0][:400]"
   ]
  },
  {
   "cell_type": "code",
   "execution_count": null,
   "id": "975353c9-0e3b-4cb5-8164-24afec855d3c",
   "metadata": {},
   "outputs": [],
   "source": []
  }
 ],
 "metadata": {
  "kernelspec": {
   "display_name": "Python 3 (ipykernel)",
   "language": "python",
   "name": "python3"
  },
  "language_info": {
   "codemirror_mode": {
    "name": "ipython",
    "version": 3
   },
   "file_extension": ".py",
   "mimetype": "text/x-python",
   "name": "python",
   "nbconvert_exporter": "python",
   "pygments_lexer": "ipython3",
   "version": "3.9.7"
  }
 },
 "nbformat": 4,
 "nbformat_minor": 5
}
