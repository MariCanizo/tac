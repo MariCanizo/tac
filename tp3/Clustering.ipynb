{
 "cells": [
  {
   "cell_type": "markdown",
   "id": "ebc2365b-d9a6-4f4a-9408-6a544e03ff3a",
   "metadata": {},
   "source": [
    "# Clustering des bulletins de décennie 1960"
   ]
  },
  {
   "cell_type": "markdown",
   "id": "572f22ed-c6a3-403f-9e28-4e3f59574025",
   "metadata": {},
   "source": [
    "### Imports"
   ]
  },
  {
   "cell_type": "code",
   "execution_count": 17,
   "id": "1ea360c5-cc5e-4550-93a7-490175aad3d9",
   "metadata": {},
   "outputs": [],
   "source": [
    "import collections\n",
    "import os\n",
    "import string\n",
    "import sys\n",
    "\n",
    "import pandas as pd\n",
    "from nltk import word_tokenize\n",
    "from nltk.corpus import stopwords\n",
    "from pprint import pprint\n",
    "from sklearn.cluster import KMeans\n",
    "from sklearn.feature_extraction.text import TfidfVectorizer\n",
    "from sklearn.decomposition import PCA\n",
    "import numpy as np\n",
    "import matplotlib.pyplot as plt\n",
    "from scipy.spatial.distance import cosine"
   ]
  },
  {
   "cell_type": "code",
   "execution_count": 18,
   "id": "2700393e-0f06-47af-ad01-674584896050",
   "metadata": {},
   "outputs": [
    {
     "name": "stderr",
     "output_type": "stream",
     "text": [
      "[nltk_data] Downloading package punkt to /root/nltk_data...\n",
      "[nltk_data]   Package punkt is already up-to-date!\n"
     ]
    },
    {
     "data": {
      "text/plain": [
       "True"
      ]
     },
     "execution_count": 18,
     "metadata": {},
     "output_type": "execute_result"
    }
   ],
   "source": [
    "import nltk\n",
    "\n",
    "nltk.download('punkt')"
   ]
  },
  {
   "cell_type": "markdown",
   "id": "998cc8cc-47a9-424e-b981-91e011f135e9",
   "metadata": {},
   "source": [
    "### Load data et choisir une décennie"
   ]
  },
  {
   "cell_type": "code",
   "execution_count": 19,
   "id": "0e67056a-d30f-4ffe-ab9f-51e4bc8fa710",
   "metadata": {},
   "outputs": [],
   "source": [
    "data_path = \"../data/txt/\""
   ]
  },
  {
   "cell_type": "code",
   "execution_count": 52,
   "id": "584878aa-396a-49de-8228-178af08cd465",
   "metadata": {},
   "outputs": [],
   "source": [
    "DECADE = '1960'"
   ]
  },
  {
   "cell_type": "markdown",
   "id": "815dbf47-093a-430c-9ba8-7aab93b7071f",
   "metadata": {
    "tags": []
   },
   "source": [
    "### Charger tous les fichiers de la décennie et en créer une liste de textes"
   ]
  },
  {
   "cell_type": "code",
   "execution_count": 53,
   "id": "bf432cf0-1205-45f9-a752-63328cc1f761",
   "metadata": {},
   "outputs": [],
   "source": [
    "files = [f for f in sorted(os.listdir(data_path)) if f\"_{DECADE[:-1]}\" in f]"
   ]
  },
  {
   "cell_type": "code",
   "execution_count": 54,
   "id": "47653e06-16f8-45aa-8e15-4a8e571f1cd5",
   "metadata": {},
   "outputs": [
    {
     "data": {
      "text/plain": [
       "['Bxl_1960_Tome_II1_Part_2.txt',\n",
       " 'Bxl_1960_Tome_II1_Part_4.txt',\n",
       " 'Bxl_1960_Tome_II2_Part_4.txt',\n",
       " 'Bxl_1960_Tome_II2_Part_5.txt',\n",
       " 'Bxl_1960_Tome_II2_Part_6.txt']"
      ]
     },
     "execution_count": 54,
     "metadata": {},
     "output_type": "execute_result"
    }
   ],
   "source": [
    "# Exemple de fichiers\n",
    "files[:5]"
   ]
  },
  {
   "cell_type": "code",
   "execution_count": 55,
   "id": "946a5a2e-140a-49d6-bb3d-df7c7f34fcf2",
   "metadata": {},
   "outputs": [
    {
     "data": {
      "text/plain": [
       "\"—\\n\\n101 —\\n\\n(12 septembre\\n\\n1960)\\n\\n17\\nCommission d'Assistance\\nActes divers\\n\\npublique.\\n\\nd'administration.\\n\\nM . l'Echevin Piron, au nom du Collège, soumet au Conseil les projets d'arrêtés suivants:\\nHôpital Saint-Pierre.\\nNouveau Service de Garde.\\nPrincipe d'une dépense de 2.543.770 francs\\npour la fourniture de matériel\\nd'équipement.\\nPar délibération en date du 3 mai 1960, la Commission\\nd'Assistance publ\""
      ]
     },
     "execution_count": 55,
     "metadata": {},
     "output_type": "execute_result"
    }
   ],
   "source": [
    "texts = [open(data_path + f).read() for f in files]\n",
    "\n",
    "# Exemple de textes\n",
    "texts[0][:400]"
   ]
  },
  {
   "cell_type": "markdown",
   "id": "851fd66a-526a-4e85-8423-78f72b7d1ae8",
   "metadata": {},
   "source": [
    "### Vectoriser les documents à l'aide de TF-IDF"
   ]
  },
  {
   "cell_type": "code",
   "execution_count": 56,
   "id": "1dcd1814-f5ca-4be9-96ff-7c334480f145",
   "metadata": {},
   "outputs": [],
   "source": [
    "# Création d'une fonction de pré-traitement\n",
    "def preprocessing(text, stem=True):\n",
    "    \"\"\" Tokenize text and remove punctuation \"\"\"\n",
    "    text = text.translate(string.punctuation)\n",
    "    tokens = word_tokenize(text)\n",
    "    return tokens\n",
    "# test"
   ]
  },
  {
   "cell_type": "markdown",
   "id": "1b0fbe70-d95b-43f3-b931-8d26738cc29f",
   "metadata": {},
   "source": [
    "### Instancier le modèle TF-IDF avec ses arguments"
   ]
  },
  {
   "cell_type": "code",
   "execution_count": 57,
   "id": "073b5b41-1931-4b0f-9ade-c8a9de7f2485",
   "metadata": {},
   "outputs": [],
   "source": [
    "vectorizer = TfidfVectorizer(\n",
    "    tokenizer=preprocessing,\n",
    "    stop_words=stopwords.words('french'),\n",
    "    max_df=0.5,\n",
    "    min_df=0.1,\n",
    "    lowercase=True)"
   ]
  },
  {
   "cell_type": "markdown",
   "id": "25ced70d-00c8-47c5-9031-2339ec0d38a1",
   "metadata": {},
   "source": [
    "## Construire la matrice de vecteurs à l'aide de la fonction fit_transform"
   ]
  },
  {
   "cell_type": "code",
   "execution_count": 58,
   "id": "0e2c8dce-7c31-45a8-a4d1-f966632f023e",
   "metadata": {},
   "outputs": [
    {
     "name": "stdout",
     "output_type": "stream",
     "text": [
      "CPU times: user 48.8 s, sys: 0 ns, total: 48.8 s\n",
      "Wall time: 49 s\n"
     ]
    }
   ],
   "source": [
    "%time tfidf_vectors = vectorizer.fit_transform(texts)"
   ]
  },
  {
   "cell_type": "code",
   "execution_count": 59,
   "id": "2a54948b-0c7e-4456-bdb3-e8a8f8fcd4d7",
   "metadata": {},
   "outputs": [
    {
     "data": {
      "text/plain": [
       "<112x6372 sparse matrix of type '<class 'numpy.float64'>'\n",
       "\twith 153954 stored elements in Compressed Sparse Row format>"
      ]
     },
     "execution_count": 59,
     "metadata": {},
     "output_type": "execute_result"
    }
   ],
   "source": [
    "# Détail de la matrice\n",
    "tfidf_vectors"
   ]
  },
  {
   "cell_type": "markdown",
   "id": "96b95d04-d5b7-41f6-8e39-3a82bfacb903",
   "metadata": {},
   "source": [
    "## Imprimer le vecteur tf-IDF du premier document"
   ]
  },
  {
   "cell_type": "code",
   "execution_count": 60,
   "id": "f7b0dc32-72fe-4bd4-9351-989ae62c8bfd",
   "metadata": {},
   "outputs": [
    {
     "data": {
      "text/plain": [
       "+considérant    0.555594\n",
       "compétent       0.232767\n",
       "considérant     0.220013\n",
       "appareil        0.208255\n",
       "a+l'honneur     0.186103\n",
       "                  ...   \n",
       "enquêtes        0.000000\n",
       "enquête         0.000000\n",
       "enkele          0.000000\n",
       "enkel           0.000000\n",
       "™               0.000000\n",
       "Length: 6372, dtype: float64"
      ]
     },
     "execution_count": 60,
     "metadata": {},
     "output_type": "execute_result"
    }
   ],
   "source": [
    "pd.Series(\n",
    "    tfidf_vectors[0].toarray()[0],\n",
    "    index=vectorizer.get_feature_names_out()\n",
    "    ).sort_values(ascending=False)\n",
    "\n",
    "# Result fills the matrix and ranks by most relevant words"
   ]
  },
  {
   "cell_type": "markdown",
   "id": "1eda3d69-5885-4431-8ea9-eb6c596cb4f2",
   "metadata": {},
   "source": [
    "## Tests sur mes documents"
   ]
  },
  {
   "cell_type": "code",
   "execution_count": 61,
   "id": "a6d6a8ba-07d8-4c0e-acde-9b69bc0e9032",
   "metadata": {},
   "outputs": [],
   "source": [
    "tfidf_array = tfidf_vectors.toarray()"
   ]
  },
  {
   "cell_type": "code",
   "execution_count": 62,
   "id": "638637d4-2e5e-4b5d-b476-349e23085183",
   "metadata": {},
   "outputs": [
    {
     "data": {
      "text/plain": [
       "array([0.       , 0.0062906, 0.       , ..., 0.0143345, 0.       ,\n",
       "       0.       ])"
      ]
     },
     "execution_count": 62,
     "metadata": {},
     "output_type": "execute_result"
    }
   ],
   "source": [
    "# Vecteur du document 0\n",
    "tfidf_array[0]"
   ]
  },
  {
   "cell_type": "code",
   "execution_count": 63,
   "id": "b4fb9116-4aa1-47b0-9555-05d79b01a87d",
   "metadata": {},
   "outputs": [
    {
     "data": {
      "text/plain": [
       "array([0., 0., 0., ..., 0., 0., 0.])"
      ]
     },
     "execution_count": 63,
     "metadata": {},
     "output_type": "execute_result"
    }
   ],
   "source": [
    "# Vecteur du document 1\n",
    "tfidf_array[1]"
   ]
  },
  {
   "cell_type": "code",
   "execution_count": 64,
   "id": "7d1637b3-924a-459c-839c-0a576b1d7045",
   "metadata": {},
   "outputs": [
    {
     "data": {
      "text/plain": [
       "0.9574017125602418"
      ]
     },
     "execution_count": 64,
     "metadata": {},
     "output_type": "execute_result"
    }
   ],
   "source": [
    "cosine(tfidf_array[0], tfidf_array[20])"
   ]
  },
  {
   "cell_type": "markdown",
   "id": "328f19f3-d93c-4e72-a52c-8b11b6348921",
   "metadata": {},
   "source": [
    "## Appliquer un algorithme de clustering sur les vecteurs TF-IDF des documents"
   ]
  },
  {
   "cell_type": "markdown",
   "id": "40881ac7-5401-4a7e-abfe-d3e339df8a04",
   "metadata": {},
   "source": [
    "### Définir un nombre de clusters"
   ]
  },
  {
   "cell_type": "code",
   "execution_count": 99,
   "id": "46fa36ce-365e-4922-8009-cee879bdb2a6",
   "metadata": {},
   "outputs": [],
   "source": [
    "N_CLUSTERS = 3"
   ]
  },
  {
   "cell_type": "markdown",
   "id": "a22e0e86-5bbf-4006-96ad-de52527541bf",
   "metadata": {},
   "source": [
    "### Instancier le modèle K-Means et ses arguments"
   ]
  },
  {
   "cell_type": "code",
   "execution_count": 100,
   "id": "dddc0947-b6ad-4e26-80b9-f088dc680705",
   "metadata": {},
   "outputs": [],
   "source": [
    "km_model = KMeans(n_clusters=N_CLUSTERS)"
   ]
  },
  {
   "cell_type": "markdown",
   "id": "2a463a54-13b2-479c-b1fb-552f96c86290",
   "metadata": {},
   "source": [
    "### Appliquer le clustering à l'aide de la fonction fit_predict"
   ]
  },
  {
   "cell_type": "code",
   "execution_count": 101,
   "id": "73a0f889-cc62-4640-89fc-0f5886282b0d",
   "metadata": {},
   "outputs": [],
   "source": [
    "clusters = km_model.fit_predict(tfidf_vectors)"
   ]
  },
  {
   "cell_type": "code",
   "execution_count": 102,
   "id": "c633339f-3451-4797-850f-de9373064f2e",
   "metadata": {},
   "outputs": [],
   "source": [
    "clustering = collections.defaultdict(list)\n",
    "\n",
    "for idx, label in enumerate(clusters):\n",
    "    clustering[label].append(files[idx])"
   ]
  },
  {
   "cell_type": "code",
   "execution_count": 104,
   "id": "a8728e71-4a01-4e85-b500-7699bbf076c9",
   "metadata": {},
   "outputs": [],
   "source": [
    "#pprint(dict(clustering))"
   ]
  },
  {
   "cell_type": "markdown",
   "id": "f17ca93d-2d6a-4fa0-b113-f231695066db",
   "metadata": {},
   "source": [
    "## Visualiser les clusters"
   ]
  },
  {
   "cell_type": "markdown",
   "id": "00b66abc-fc25-41d0-a731-1233909badd8",
   "metadata": {},
   "source": [
    "### Réduire les vecteurs à 2 dimensions à l'aide de l'algorithme PCA"
   ]
  },
  {
   "cell_type": "code",
   "execution_count": 105,
   "id": "2645ac71-14ef-4b1a-ba4f-f2822a82ec65",
   "metadata": {},
   "outputs": [],
   "source": [
    "pca = PCA(n_components=2)\n",
    "reduced_vectors = pca.fit_transform(tfidf_vectors.toarray())"
   ]
  },
  {
   "cell_type": "code",
   "execution_count": 106,
   "id": "6074cdd1-6953-451e-be91-c1e650fdeade",
   "metadata": {},
   "outputs": [
    {
     "data": {
      "text/plain": [
       "array([[-0.35174602, -0.47741649],\n",
       "       [-0.34026883, -0.45021143],\n",
       "       [-0.06665248, -0.14346354],\n",
       "       [-0.27874707, -0.34199861],\n",
       "       [ 0.0007614 , -0.1011126 ],\n",
       "       [ 0.02345911, -0.11219291],\n",
       "       [ 0.0108466 , -0.11883788],\n",
       "       [-0.25745127, -0.30174029],\n",
       "       [-0.26503626, -0.34169635],\n",
       "       [-0.02722716, -0.07986394]])"
      ]
     },
     "execution_count": 106,
     "metadata": {},
     "output_type": "execute_result"
    }
   ],
   "source": [
    "reduced_vectors[:10]"
   ]
  },
  {
   "cell_type": "markdown",
   "id": "2742c0e5-d1e2-4a97-9e56-cafaae8d5f9f",
   "metadata": {},
   "source": [
    "### Générer le plot"
   ]
  },
  {
   "cell_type": "code",
   "execution_count": 107,
   "id": "4e1518e0-a939-4b75-a4ff-5b779c82d8b3",
   "metadata": {},
   "outputs": [
    {
     "data": {
      "text/plain": [
       "<matplotlib.legend.Legend at 0x7f67570f47c0>"
      ]
     },
     "execution_count": 107,
     "metadata": {},
     "output_type": "execute_result"
    },
    {
     "data": {
      "image/png": "[encoded data removed]",
      "text/plain": [
       "<Figure size 720x720 with 1 Axes>"
      ]
     },
     "metadata": {
      "needs_background": "light"
     },
     "output_type": "display_data"
    }
   ],
   "source": [
    "x_axis = reduced_vectors[:, 0]\n",
    "y_axis = reduced_vectors[:, 1]\n",
    "\n",
    "plt.figure(figsize=(10,10))\n",
    "scatter = plt.scatter(x_axis, y_axis, s=100, c=clusters)\n",
    "\n",
    "# Ajouter les centroïdes\n",
    "centroids = pca.transform(km_model.cluster_centers_)\n",
    "plt.scatter(centroids[:, 0], centroids[:, 1],  marker = \"x\", s=100, linewidths = 3, color='red')\n",
    "\n",
    "# Ajouter la légende\n",
    "plt.legend(handles=scatter.legend_elements()[0], labels=set(clusters), title=\"Clusters\")"
   ]
  },
  {
   "cell_type": "code",
   "execution_count": null,
   "id": "1691cc1a-6f4c-4be8-8b2c-6e48d6db8bb4",
   "metadata": {},
   "outputs": [],
   "source": []
  }
 ],
 "metadata": {
  "kernelspec": {
   "display_name": "Python 3 (ipykernel)",
   "language": "python",
   "name": "python3"
  },
  "language_info": {
   "codemirror_mode": {
    "name": "ipython",
    "version": 3
   },
   "file_extension": ".py",
   "mimetype": "text/x-python",
   "name": "python",
   "nbconvert_exporter": "python",
   "pygments_lexer": "ipython3",
   "version": "3.9.7"
  }
 },
 "nbformat": 4,
 "nbformat_minor": 5
}
