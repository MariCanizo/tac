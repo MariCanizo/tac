{
 "cells": [
  {
   "cell_type": "markdown",
   "id": "9cf89674-0bb2-4045-9c72-5bf6a78883a3",
   "metadata": {},
   "source": [
    "# Named entities"
   ]
  },
  {
   "cell_type": "markdown",
   "id": "d9715da4-af3c-4e95-8c4e-7529619e8b42",
   "metadata": {
    "tags": []
   },
   "source": [
    "# Reconnaissance d'entités nommées avec SpaCy"
   ]
  },
  {
   "cell_type": "markdown",
   "id": "9bc4db5d-c5c8-42da-a4ae-b6ccd4c53f11",
   "metadata": {},
   "source": [
    "## Trouver les entités nommées principales (personnes, organisations et lieux) pertinentes pour l'année 1908"
   ]
  },
  {
   "cell_type": "markdown",
   "id": "f4ca0565-fe7b-473e-93e1-394cf258a1fa",
   "metadata": {},
   "source": [
    "### Imports"
   ]
  },
  {
   "cell_type": "code",
   "execution_count": 9,
   "id": "8dc8e0f7-afd9-4bb4-9232-f274460010f7",
   "metadata": {},
   "outputs": [],
   "source": [
    "from collections import defaultdict\n",
    "\n",
    "import sys\n",
    "import spacy\n",
    "from spacy.lang.fr.examples import sentences\n",
    "import os"
   ]
  },
  {
   "cell_type": "code",
   "execution_count": 10,
   "id": "31bb1094-fe1d-4cc6-a8eb-4607228f72b7",
   "metadata": {},
   "outputs": [],
   "source": [
    "nlp = spacy.load('fr_core_news_md')"
   ]
  },
  {
   "cell_type": "markdown",
   "id": "a560a1b3-120c-4f66-bbb5-31a36e288d40",
   "metadata": {},
   "source": [
    "### Appliquer la reconnaissance d'entités nommées sur l'année 1908 du corpus"
   ]
  },
  {
   "cell_type": "code",
   "execution_count": 11,
   "id": "61ad8dea-f625-4105-9a27-5d5528131473",
   "metadata": {},
   "outputs": [],
   "source": [
    "# Lister les Fichiers\n",
    "data_path = \"../data/txt/\"\n",
    "files = os.listdir(data_path)"
   ]
  },
  {
   "cell_type": "code",
   "execution_count": 12,
   "id": "f4c27513-e2ad-4cd3-9978-8d4a9c02f184",
   "metadata": {},
   "outputs": [],
   "source": [
    "bxl_files_1908 = [f for f in files if f.startswith('Bxl_1908')]"
   ]
  },
  {
   "cell_type": "code",
   "execution_count": 13,
   "id": "56750448-367c-4aa6-a081-f34c32ed1451",
   "metadata": {},
   "outputs": [
    {
     "name": "stdout",
     "output_type": "stream",
     "text": [
      "V I L L E\n",
      "\n",
      "DE\n",
      "\n",
      "B R U X E L L E S .\n",
      "o\n",
      "\n",
      "B U L L E T I N COMMUNAL\n",
      "A N N É E\n",
      "\n",
      "PREMIÈRE\n",
      "\n",
      "TOME\n",
      "\n",
      "C O M P T E\n",
      "\n",
      "R E N D U\n",
      "\n",
      "1908.\n",
      "\n",
      "PARTIE.\n",
      "\n",
      "I.\n",
      "\n",
      "D E S\n",
      "\n",
      "S É A N C E S .\n",
      "\n",
      "BRUXELLES\n",
      "TYPOGRAPHIE\n",
      "\n",
      "ET LITHOGRAPHIE\n",
      "Rue P a c h é c o ,\n",
      "12\n",
      "\n",
      "1908\n",
      "\n",
      "E . GUYOT\n",
      "\n",
      "\f",
      "\f",
      "N° 1.\n",
      "\n",
      "C O M P T E R E N D U D E L A SÉANCE D U 2 J A N V I E R 1 9 0 8 .\n",
      "\n",
      "VILLE D E BRUXELLES\n",
      "\n",
      "BULLETIN\n",
      "\n",
      "COMMUNAL\n",
      "\n",
      "Année 1 9 0 8\n",
      "\n",
      "CONSEIL\n",
      "Séance\n",
      "\n",
      "COMMUNAL.\n",
      "\n",
      "du 2 Janvier 1 9 0 8 .\n",
      "\n",
      "Présidence de M . E M I L E D E M O T , Bourgmestre.\n",
      ".SOMMAIRE :\n",
      "1.\n",
      "\n",
      "Prestatio\n"
     ]
    }
   ],
   "source": [
    "# Loop for geting the text of all the files from 1908\n",
    "text = ''\n",
    "\n",
    "for this_file in bxl_files_1908:\n",
    "    text += open(os.path.join(data_path, this_file), encoding='utf-8').read()\n",
    "\n",
    "print(text[:500])\n"
   ]
  },
  {
   "cell_type": "code",
   "execution_count": 18,
   "id": "9bdd63a4-38bc-4332-b960-ad2f7eaba7bc",
   "metadata": {},
   "outputs": [
    {
     "name": "stdout",
     "output_type": "stream",
     "text": [
      "CPU times: user 12.3 s, sys: 1.43 s, total: 13.7 s\n",
      "Wall time: 13.8 s\n"
     ]
    }
   ],
   "source": [
    "%%time\n",
    "# Traiter le texte\n",
    "\n",
    "doc = nlp(text[:100000])"
   ]
  },
  {
   "cell_type": "code",
   "execution_count": 19,
   "id": "6bc4d903-b8d9-4e15-842d-366f63f058e4",
   "metadata": {},
   "outputs": [],
   "source": [
    "# Compter les entités\n",
    "people = defaultdict(int)\n",
    "for ent in doc.ents:\n",
    "    # Acá se puede reemplzar \"PER\" por \"LOC\"por ejemplo para testear con otras entidades\n",
    "    if ent.label_ == \"LOC\" and len(ent.text) > 3:\n",
    "        people[ent.text] += 1"
   ]
  },
  {
   "cell_type": "code",
   "execution_count": 21,
   "id": "d98cc743-e4d0-4438-827c-7f7025efd7c6",
   "metadata": {},
   "outputs": [
    {
     "name": "stdout",
     "output_type": "stream",
     "text": [
      "Bruxelles apparait 41 fois dans le corpus\n",
      "Bourgmestre apparait 19 fois dans le corpus\n",
      "la Ville apparait 19 fois dans le corpus\n",
      "Dassonville apparait 9 fois dans le corpus\n",
      "Bosquet apparait 6 fois dans le corpus\n",
      "Steens apparait 6 fois dans le corpus\n",
      "Claes apparait 5 fois dans le corpus\n",
      "Sections apparait 4 fois dans le corpus\n",
      "Leurs apparait 4 fois dans le corpus\n",
      "Furnemont apparait 4 fois dans le corpus\n",
      "Pattou apparait 4 fois dans le corpus\n",
      "Mutations apparait 4 fois dans le corpus\n",
      "Schaerbeek apparait 4 fois dans le corpus\n",
      "Sablon apparait 4 fois dans le corpus\n",
      "Verheven apparait 3 fois dans le corpus\n",
      "Solau apparait 3 fois dans le corpus\n",
      "rue du Noyer apparait 3 fois dans le corpus\n",
      "rue Veronése apparait 3 fois dans le corpus\n",
      "Locquenghien apparait 3 fois dans le corpus\n",
      "Bourse apparait 3 fois dans le corpus\n",
      "Braine apparait 3 fois dans le corpus\n",
      "Etat apparait 3 fois dans le corpus\n",
      "gare de Haeren apparait 3 fois dans le corpus\n",
      "Hospices apparait 3 fois dans le corpus\n",
      "Molenbeek-Saint-Jean apparait 3 fois dans le corpus\n",
      "Ville apparait 3 fois dans le corpus\n",
      "Brasserie apparait 3 fois dans le corpus\n",
      "Beaux-Arts apparait 3 fois dans le corpus\n",
      "Colombier apparait 3 fois dans le corpus\n",
      "BRUXELLES apparait 2 fois dans le corpus\n",
      "E M I apparait 2 fois dans le corpus\n",
      "E D E apparait 2 fois dans le corpus\n",
      "Prestation apparait 2 fois dans le corpus\n",
      "Wauwermans apparait 2 fois dans le corpus\n",
      "Delbastée apparait 2 fois dans le corpus\n",
      "Conrardy apparait 2 fois dans le corpus\n",
      "Applaudissements apparait 2 fois dans le corpus\n",
      "Brabandt apparait 2 fois dans le corpus\n",
      "Vandenbosch apparait 2 fois dans le corpus\n",
      "Caisse communale apparait 2 fois dans le corpus\n",
      "Jardins d'enfants apparait 2 fois dans le corpus\n",
      "Indemnité apparait 2 fois dans le corpus\n",
      "Sacré-Cœur apparait 2 fois dans le corpus\n",
      "Subside apparait 2 fois dans le corpus\n",
      "Alleud apparait 2 fois dans le corpus\n",
      "Ville de Bruxelles apparait 2 fois dans le corpus\n",
      "Ixelles apparait 2 fois dans le corpus\n",
      "Saint-Remi apparait 2 fois dans le corpus\n",
      "Porte de Hal apparait 2 fois dans le corpus\n",
      "boulevard Clovis apparait 2 fois dans le corpus\n",
      "Hilarité apparait 2 fois dans le corpus\n",
      "Gand apparait 2 fois dans le corpus\n",
      "Laeken apparait 2 fois dans le corpus\n",
      "notre Capitale apparait 2 fois dans le corpus\n",
      "Est-elle apparait 2 fois dans le corpus\n",
      "Ostende apparait 2 fois dans le corpus\n",
      "Paris apparait 2 fois dans le corpus\n",
      "Arrêté apparait 2 fois dans le corpus\n",
      "Collège des Bourgmestre apparait 2 fois dans le corpus\n",
      "rue du Poinçon apparait 2 fois dans le corpus\n",
      "Minque apparait 2 fois dans le corpus\n",
      "rue Saint-Géry apparait 2 fois dans le corpus\n",
      "Londres apparait 2 fois dans le corpus\n",
      "Angleterre apparait 2 fois dans le corpus\n",
      "Rue P apparait 1 fois dans le corpus\n",
      "D E BRUXELLES apparait 1 fois dans le corpus\n",
      "Délégation apparait 1 fois dans le corpus\n",
      "Vandendorne apparait 1 fois dans le corpus\n",
      "Pnttou apparait 1 fois dans le corpus\n",
      "Vandenbosçh apparait 1 fois dans le corpus\n",
      "Olaes apparait 1 fois dans le corpus\n",
      "Léman mer apparait 1 fois dans le corpus\n",
      "Anspach^Puissant apparait 1 fois dans le corpus\n",
      "Dclbasi.ee apparait 1 fois dans le corpus\n",
      "Conseiller provincial apparait 1 fois dans le corpus\n",
      "Éehevins apparait 1 fois dans le corpus\n",
      "Echevins apparait 1 fois dans le corpus\n",
      "Poelaert apparait 1 fois dans le corpus\n",
      "Tableaudes apparait 1 fois dans le corpus\n",
      "Jacqmain apparait 1 fois dans le corpus\n",
      "Hubert apparait 1 fois dans le corpus\n",
      "Del-\n",
      "\n",
      " apparait 1 fois dans le corpus\n",
      "Kufferath apparait 1 fois dans le corpus\n",
      "84 D E apparait 1 fois dans le corpus\n",
      "Jardins\n",
      "\n",
      " apparait 1 fois dans le corpus\n",
      "Surveillants apparait 1 fois dans le corpus\n",
      "P r é apparait 1 fois dans le corpus\n",
      "ouches apparait 1 fois dans le corpus\n",
      "Palais du Midi apparait 1 fois dans le corpus\n",
      "Hameau du Ménil apparait 1 fois dans le corpus\n",
      "Haeren apparait 1 fois dans le corpus\n",
      "Mont-de-Piété apparait 1 fois dans le corpus\n",
      "J<|. apparait 1 fois dans le corpus\n",
      "Eglise Saint-Remi apparait 1 fois dans le corpus\n",
      "Eglises Saint-Adrien apparait 1 fois dans le corpus\n",
      "Sainte-Croix apparait 1 fois dans le corpus\n",
      "Saint-Philippede-Néri apparait 1 fois dans le corpus\n",
      "Budgets apparait 1 fois dans le corpus\n",
      "Bienfaisance apparait 1 fois dans le corpus\n",
      "place des Gueux apparait 1 fois dans le corpus\n"
     ]
    }
   ],
   "source": [
    "# Trier et imprimer\n",
    "# Acá lo interesante sería mostrar la evolución de los nombres de familia \n",
    "sorted_people = sorted(people.items(), key=lambda kv: kv[1], reverse=True)\n",
    "\n",
    "for person, freq in sorted_people[:100]:\n",
    "    print(f\"{person} apparait {freq} fois dans le corpus\")"
   ]
  },
  {
   "cell_type": "code",
   "execution_count": null,
   "id": "72d1e4e0-d012-4782-bd12-15f782923ec1",
   "metadata": {},
   "outputs": [],
   "source": []
  }
 ],
 "metadata": {
  "kernelspec": {
   "display_name": "Python 3 (ipykernel)",
   "language": "python",
   "name": "python3"
  },
  "language_info": {
   "codemirror_mode": {
    "name": "ipython",
    "version": 3
   },
   "file_extension": ".py",
   "mimetype": "text/x-python",
   "name": "python",
   "nbconvert_exporter": "python",
   "pygments_lexer": "ipython3",
   "version": "3.9.7"
  }
 },
 "nbformat": 4,
 "nbformat_minor": 5
}
