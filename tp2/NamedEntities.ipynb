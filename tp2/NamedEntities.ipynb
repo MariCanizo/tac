{
 "cells": [
  {
   "cell_type": "markdown",
   "id": "9cf89674-0bb2-4045-9c72-5bf6a78883a3",
   "metadata": {},
   "source": [
    "# Named entities"
   ]
  },
  {
   "cell_type": "markdown",
   "id": "d9715da4-af3c-4e95-8c4e-7529619e8b42",
   "metadata": {
    "tags": []
   },
   "source": [
    "# Reconnaissance d'entités nommées avec SpaCy"
   ]
  },
  {
   "cell_type": "markdown",
   "id": "9bc4db5d-c5c8-42da-a4ae-b6ccd4c53f11",
   "metadata": {},
   "source": [
    "## Trouver les entités nommées principales (personnes, organisations et lieux) pertinentes pour l'année 1908"
   ]
  },
  {
   "cell_type": "markdown",
   "id": "f4ca0565-fe7b-473e-93e1-394cf258a1fa",
   "metadata": {},
   "source": [
    "### Imports"
   ]
  },
  {
   "cell_type": "code",
   "execution_count": 1,
   "id": "8dc8e0f7-afd9-4bb4-9232-f274460010f7",
   "metadata": {},
   "outputs": [],
   "source": [
    "from collections import defaultdict\n",
    "\n",
    "import sys\n",
    "import spacy\n",
    "from spacy.lang.fr.examples import sentences\n",
    "import os"
   ]
  },
  {
   "cell_type": "code",
   "execution_count": 2,
   "id": "31bb1094-fe1d-4cc6-a8eb-4607228f72b7",
   "metadata": {},
   "outputs": [],
   "source": [
    "nlp = spacy.load('fr_core_news_md')"
   ]
  },
  {
   "cell_type": "markdown",
   "id": "a560a1b3-120c-4f66-bbb5-31a36e288d40",
   "metadata": {},
   "source": [
    "### Appliquer la reconnaissance d'entités nommées sur l'année 1908 du corpus"
   ]
  },
  {
   "cell_type": "code",
   "execution_count": 3,
   "id": "61ad8dea-f625-4105-9a27-5d5528131473",
   "metadata": {},
   "outputs": [],
   "source": [
    "# Lister les Fichiers\n",
    "data_path = \"../data/txt/\"\n",
    "files = os.listdir(data_path)"
   ]
  },
  {
   "cell_type": "code",
   "execution_count": 4,
   "id": "f4c27513-e2ad-4cd3-9978-8d4a9c02f184",
   "metadata": {},
   "outputs": [],
   "source": [
    "bxl_files_1908 = [f for f in files if f.startswith('Bxl_1908')]"
   ]
  },
  {
   "cell_type": "code",
   "execution_count": 5,
   "id": "56750448-367c-4aa6-a081-f34c32ed1451",
   "metadata": {},
   "outputs": [
    {
     "name": "stdout",
     "output_type": "stream",
     "text": [
      "V I L L E\n",
      "\n",
      "DE\n",
      "\n",
      "B R U X E L L E S .\n",
      "o\n",
      "\n",
      "B U L L E T I N COMMUNAL\n",
      "A N N É E\n",
      "\n",
      "PREMIÈRE\n",
      "\n",
      "TOME\n",
      "\n",
      "C O M P T E\n",
      "\n",
      "R E N D U\n",
      "\n",
      "1908.\n",
      "\n",
      "PARTIE.\n",
      "\n",
      "I.\n",
      "\n",
      "D E S\n",
      "\n",
      "S É A N C E S .\n",
      "\n",
      "BRUXELLES\n",
      "TYPOGRAPHIE\n",
      "\n",
      "ET LITHOGRAPHIE\n",
      "Rue P a c h é c o ,\n",
      "12\n",
      "\n",
      "1908\n",
      "\n",
      "E . GUYOT\n",
      "\n",
      "\f",
      "\f",
      "N° 1.\n",
      "\n",
      "C O M P T E R E N D U D E L A SÉANCE D U 2 J A N V I E R 1 9 0 8 .\n",
      "\n",
      "VILLE D E BRUXELLES\n",
      "\n",
      "BULLETIN\n",
      "\n",
      "COMMUNAL\n",
      "\n",
      "Année 1 9 0 8\n",
      "\n",
      "CONSEIL\n",
      "Séance\n",
      "\n",
      "COMMUNAL.\n",
      "\n",
      "du 2 Janvier 1 9 0 8 .\n",
      "\n",
      "Présidence de M . E M I L E D E M O T , Bourgmestre.\n",
      ".SOMMAIRE :\n",
      "1.\n",
      "\n",
      "Prestatio\n"
     ]
    }
   ],
   "source": [
    "# Loop for geting the text of all the files from 1908\n",
    "text = ''\n",
    "\n",
    "for this_file in bxl_files_1908:\n",
    "    text += open(os.path.join(data_path, this_file), encoding='utf-8').read()\n",
    "\n",
    "print(text[:500])\n"
   ]
  },
  {
   "cell_type": "code",
   "execution_count": 6,
   "id": "9bdd63a4-38bc-4332-b960-ad2f7eaba7bc",
   "metadata": {},
   "outputs": [
    {
     "name": "stdout",
     "output_type": "stream",
     "text": [
      "CPU times: user 1.21 s, sys: 79.3 ms, total: 1.29 s\n",
      "Wall time: 1.32 s\n"
     ]
    }
   ],
   "source": [
    "%%time\n",
    "# Traiter le texte\n",
    "\n",
    "doc = nlp(text[:10000])"
   ]
  },
  {
   "cell_type": "code",
   "execution_count": 7,
   "id": "6bc4d903-b8d9-4e15-842d-366f63f058e4",
   "metadata": {},
   "outputs": [],
   "source": [
    "# Compter les entités\n",
    "people = defaultdict(int)\n",
    "for ent in doc.ents:\n",
    "    # Acá se puede reemplzar \"PER\" por \"LOC\"por ejemplo para testear con otras entidades\n",
    "    if ent.label_ == \"PER\" and len(ent.text) > 3:\n",
    "        people[ent.text] += 1"
   ]
  },
  {
   "cell_type": "code",
   "execution_count": 8,
   "id": "d98cc743-e4d0-4438-827c-7f7025efd7c6",
   "metadata": {},
   "outputs": [
    {
     "name": "stdout",
     "output_type": "stream",
     "text": [
      "Bourgmestre apparait 13 fois dans le corpus\n",
      "Echevin apparait 13 fois dans le corpus\n",
      "Grimard apparait 8 fois dans le corpus\n",
      "Lemonnier apparait 6 fois dans le corpus\n",
      "Steens apparait 4 fois dans le corpus\n",
      "Burthoul apparait 4 fois dans le corpus\n",
      "De Page apparait 4 fois dans le corpus\n",
      "Jacqmain apparait 4 fois dans le corpus\n",
      "Scrutin apparait 4 fois dans le corpus\n",
      "Lepage apparait 3 fois dans le corpus\n",
      "Hanssens apparait 3 fois dans le corpus\n",
      "Anspach-Puissant apparait 3 fois dans le corpus\n",
      "Camille Huysmans apparait 3 fois dans le corpus\n",
      "Messieurs apparait 3 fois dans le corpus\n",
      "Conseiller apparait 2 fois dans le corpus\n",
      "Crick apparait 2 fois dans le corpus\n",
      "Hubert apparait 2 fois dans le corpus\n",
      "Bauwens apparait 2 fois dans le corpus\n",
      "Desmet apparait 2 fois dans le corpus\n",
      "Vanneck apparait 2 fois dans le corpus\n",
      "Huisman apparait 2 fois dans le corpus\n",
      "Delbastée apparait 2 fois dans le corpus\n",
      "Jules de Trooz apparait 2 fois dans le corpus\n",
      "Echevins apparait 2 fois dans le corpus\n",
      "Monsieur le Bourgmestre apparait 2 fois dans le corpus\n",
      "D E S apparait 1 fois dans le corpus\n",
      "Présidence de M apparait 1 fois dans le corpus\n",
      "Furnemont apparait 1 fois dans le corpus\n",
      "Verheven apparait 1 fois dans le corpus\n",
      "Solan apparait 1 fois dans le corpus\n",
      "Huisman-Van den Nest apparait 1 fois dans le corpus\n",
      "Dwelshauvers apparait 1 fois dans le corpus\n",
      "Secrétaire apparait 1 fois dans le corpus\n",
      "M. Moons apparait 1 fois dans le corpus\n",
      "Gûnrardy apparait 1 fois dans le corpus\n",
      "Conrardy apparait 1 fois dans le corpus\n",
      "Pierre-Gustave apparait 1 fois dans le corpus\n",
      "De Jaer apparait 1 fois dans le corpus\n",
      "P r é apparait 1 fois dans le corpus\n",
      "é v é apparait 1 fois dans le corpus\n",
      "Huysmans apparait 1 fois dans le corpus\n",
      "Potter apparait 1 fois dans le corpus\n",
      "Max p r ê apparait 1 fois dans le corpus\n",
      "Conseiller\n",
      " apparait 1 fois dans le corpus\n",
      "A Monsieur apparait 1 fois dans le corpus\n",
      "Emile De Mot apparait 1 fois dans le corpus\n",
      "Poelaert apparait 1 fois dans le corpus\n",
      "Solau apparait 1 fois dans le corpus\n",
      "Huysmans Camille apparait 1 fois dans le corpus\n",
      "Vandendorpe apparait 1 fois dans le corpus\n"
     ]
    }
   ],
   "source": [
    "# Trier et imprimer\n",
    "# Acá lo interesante sería mostrar la evolución de los nombres de familia \n",
    "sorted_people = sorted(people.items(), key=lambda kv: kv[1], reverse=True)\n",
    "\n",
    "for person, freq in sorted_people[:50]:\n",
    "    print(f\"{person} apparait {freq} fois dans le corpus\")"
   ]
  },
  {
   "cell_type": "code",
   "execution_count": null,
   "id": "72d1e4e0-d012-4782-bd12-15f782923ec1",
   "metadata": {},
   "outputs": [],
   "source": []
  }
 ],
 "metadata": {
  "kernelspec": {
   "display_name": "Python 3 (ipykernel)",
   "language": "python",
   "name": "python3"
  },
  "language_info": {
   "codemirror_mode": {
    "name": "ipython",
    "version": 3
   },
   "file_extension": ".py",
   "mimetype": "text/x-python",
   "name": "python",
   "nbconvert_exporter": "python",
   "pygments_lexer": "ipython3",
   "version": "3.9.7"
  }
 },
 "nbformat": 4,
 "nbformat_minor": 5
}
