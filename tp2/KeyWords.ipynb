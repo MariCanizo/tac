{
 "cells": [
  {
   "cell_type": "markdown",
   "id": "256849c7-bbc4-42ae-9bed-a6fb624e7148",
   "metadata": {},
   "source": [
    "## Extraction de Keywords"
   ]
  },
  {
   "cell_type": "markdown",
   "id": "8f662347-8f13-48a5-b4ae-a270d005b9ae",
   "metadata": {
    "tags": []
   },
   "source": [
    "### Imports"
   ]
  },
  {
   "cell_type": "code",
   "execution_count": 33,
   "id": "0acc35fd-2c15-430b-8b32-e16e49bf42b4",
   "metadata": {},
   "outputs": [],
   "source": [
    "import os\n",
    "import yake"
   ]
  },
  {
   "cell_type": "markdown",
   "id": "4bb7bb66-3456-4bda-9edd-b5d6b41fd85b",
   "metadata": {
    "tags": []
   },
   "source": [
    "### Load Data & list files"
   ]
  },
  {
   "cell_type": "code",
   "execution_count": 34,
   "id": "df4958f6-f96b-4cda-92df-a9d37b550a38",
   "metadata": {},
   "outputs": [],
   "source": [
    "# Lister les Fichiers\n",
    "data_path = \"../data/txt/\"\n",
    "files = os.listdir(data_path)"
   ]
  },
  {
   "cell_type": "markdown",
   "id": "039409d4-b87d-4dd6-aa5f-c25dc562abef",
   "metadata": {
    "tags": []
   },
   "source": [
    "### Choose year 1908"
   ]
  },
  {
   "cell_type": "code",
   "execution_count": 35,
   "id": "82287031-9bcc-4ce2-b6ea-349835fc42fa",
   "metadata": {},
   "outputs": [
    {
     "data": {
      "text/plain": [
       "16"
      ]
     },
     "execution_count": 35,
     "metadata": {},
     "output_type": "execute_result"
    }
   ],
   "source": [
    "# Keep just the files from year 1908\n",
    "bxl_files = [f for f in files if f.startswith('Bxl_1908')]\n",
    "len(bxl_files)"
   ]
  },
  {
   "cell_type": "code",
   "execution_count": 36,
   "id": "f3908417-dcb8-49d4-9fe8-d242c488ec57",
   "metadata": {},
   "outputs": [
    {
     "data": {
      "text/plain": [
       "'Bxl_1908_Tome_I1_Part_1.txt'"
      ]
     },
     "execution_count": 36,
     "metadata": {},
     "output_type": "execute_result"
    }
   ],
   "source": [
    "this_file = bxl_files[0]\n",
    "this_file"
   ]
  },
  {
   "cell_type": "code",
   "execution_count": 37,
   "id": "a563db9f-568c-42b0-91f1-fe6b4b99685e",
   "metadata": {},
   "outputs": [
    {
     "data": {
      "text/plain": [
       "'V I L L E\\n\\nDE\\n\\nB R U X E L L E S .\\no\\n\\nB U L L E T I N COMMUNAL\\nA N N É E\\n\\nPREMIÈRE\\n\\nTOME\\n\\nC O M P T E\\n\\nR E N D U\\n\\n1908.\\n\\nPARTIE.\\n\\nI.\\n\\nD E S\\n\\nS É A N C E S .\\n\\nBRUXELLES\\nTYPOGRAPHIE\\n\\nET LITHOGRAPHIE\\nRue P a c h é c o ,\\n12\\n\\n1908\\n\\nE . GUYOT\\n\\n\\x0c\\x0cN° 1.\\n\\nC O M P T E R E N D U D E L A SÉANCE D U 2 J A N V I E R 1 9 0 8 .\\n\\nVILLE D E BRUXELLES\\n\\nBULLETIN\\n\\nCOMMUNAL\\n\\nAnnée 1 9 0 8\\n\\nCONSEIL\\nSéance\\n\\nCOMMUNAL.\\n\\ndu 2 Janvier 1 9 0 8 .\\n\\nPrésidence de M . E M I L E D E M O T , Bourgmestre.\\n.SOMMAIRE :\\n1.\\n\\nPrestatio'"
      ]
     },
     "execution_count": 37,
     "metadata": {},
     "output_type": "execute_result"
    }
   ],
   "source": [
    "# Récupérer le texte du fichier\n",
    "text = open(os.path.join(data_path, this_file), 'r').read()\n",
    "text[:500]"
   ]
  },
  {
   "cell_type": "markdown",
   "id": "a065ea14-4a9b-41f1-82a6-40f16724f092",
   "metadata": {},
   "source": [
    "### Extraire uniquement les mots-clés relatifs à l'année 1908"
   ]
  },
  {
   "cell_type": "code",
   "execution_count": 44,
   "id": "1069ac55-2efe-4745-a195-90e07aa7977f",
   "metadata": {},
   "outputs": [
    {
     "data": {
      "text/plain": [
       "{'Avis favorable',\n",
       " 'BRUXELLES',\n",
       " 'Bourgmestre',\n",
       " 'COMMUNAL',\n",
       " 'CONSEIL',\n",
       " 'Collège',\n",
       " 'Conseil communal',\n",
       " 'Messieurs',\n",
       " 'Section',\n",
       " 'VILLE',\n",
       " 'avis favorable',\n",
       " 'bruxelles',\n",
       " 'conseil communal',\n",
       " 'conseil général',\n",
       " 'question'}"
      ]
     },
     "execution_count": 44,
     "metadata": {},
     "output_type": "execute_result"
    }
   ],
   "source": [
    "# Création d'une liste de mots à ignorer\n",
    "# set([]) dedouble la liste\n",
    "ignored = set([\"conseil communal\", \"conseil général\", \"bruxelles\", \"CONSEIL\", \"Conseil communal\", \"COMMUNAL\", \"BRUXELLES\", \"VILLE\", \"Collège\", \n",
    "               \"avis favorable\", \"Avis favorable\", \"Messieurs\", \"Section\", \"Avis favorable\", \"Bourgmestre\", \"question\"])\n",
    "ignored"
   ]
  },
  {
   "cell_type": "code",
   "execution_count": 45,
   "id": "3b92bd4e-44e1-4e51-8750-3573a785645b",
   "metadata": {},
   "outputs": [
    {
     "data": {
      "text/plain": [
       "<yake.yake.KeywordExtractor at 0x7f2565a42a30>"
      ]
     },
     "execution_count": 45,
     "metadata": {},
     "output_type": "execute_result"
    }
   ],
   "source": [
    "# Instantier l'extracteur de mots clés\n",
    "# KeyWord Extractor contiens une fonction\n",
    "# top = 50 est arbritraire\n",
    "kw_extractor = yake.KeywordExtractor(lan=\"fr\", top=50)\n",
    "kw_extractor"
   ]
  },
  {
   "cell_type": "code",
   "execution_count": 46,
   "id": "5b21ed84-0ac1-4daf-a38d-6e3d184df8f3",
   "metadata": {},
   "outputs": [],
   "source": [
    "# Extraire les mots clés de ce texte\n",
    "keywords = kw_extractor.extract_keywords(text)"
   ]
  },
  {
   "cell_type": "code",
   "execution_count": 47,
   "id": "76604c64-59c8-4d84-a60f-29f3fec60c16",
   "metadata": {},
   "outputs": [
    {
     "data": {
      "text/plain": [
       "[('Collège', 0.0006597551929763165),\n",
       " ('EMILE Collège', 0.0007097015598415391),\n",
       " ('Ville', 0.0008134981495386114),\n",
       " ('Bourgmestre et Echevins', 0.0010115032690979516),\n",
       " ('heures', 0.0010637128305385232),\n",
       " (\"l'Hôtel de Ville\", 0.0011584553718898384),\n",
       " ('Bruxelles', 0.0014887617652665957),\n",
       " (\"Ville jusqu'au jour\", 0.0015454577990900353),\n",
       " ('Bourgmestre', 0.001563953674511315),\n",
       " ('Collège des Bourgmestre', 0.001575308541163808),\n",
       " ('lot', 0.0016154022827131436),\n",
       " ('rue', 0.0017304424683390086),\n",
       " ('cahier des charges', 0.0019300477683757593),\n",
       " ('Avis', 0.001968523108841512),\n",
       " ('EMILE', 0.0022537926268731364),\n",
       " ('MOT', 0.0030369213239870847),\n",
       " ('Secrétaire', 0.0030540422641168654),\n",
       " ('fourniture', 0.0031267620483421735),\n",
       " (\"l'adjudication\", 0.003802770326401962),\n",
       " ('Service', 0.003836086397974326),\n",
       " (\"Ville jusqu'au\", 0.0038987563230242998),\n",
       " ('Echevins', 0.0040642820068166625),\n",
       " ('Musée commercial', 0.004452406026053734),\n",
       " ('heure', 0.004597984493295552),\n",
       " ('Art', 0.00485079112245346),\n",
       " (\"Secrétariat de l'Hôtel\", 0.004852192245314739),\n",
       " ('cahier', 0.004907284069365282),\n",
       " ('charges', 0.005224647683576817),\n",
       " ('travaux', 0.005323099247236077),\n",
       " ('ÉCOLE', 0.005584342585853795),\n",
       " ('jours ouvrables', 0.005699440017682347),\n",
       " ('écoles primaires', 0.00577635309937171),\n",
       " ('jours', 0.006048798127606557),\n",
       " ('Belgique', 0.006220372458138337),\n",
       " (\"l'Hôtel\", 0.006489450056127687),\n",
       " ('heures du matin', 0.0065958493958215335),\n",
       " ('francs', 0.006806554502811743),\n",
       " ('novembre', 0.006871075738409148),\n",
       " ('écoles', 0.0069245848064587055),\n",
       " ('DWELSHAUVERS', 0.007476462138710139),\n",
       " ('Conseil', 0.007672807284831095),\n",
       " ('heures et demie', 0.007802673539659779),\n",
       " ('soumissions', 0.007989736399407161),\n",
       " ('Secrétariat', 0.008056717039621526),\n",
       " ('matin', 0.008193330087404166),\n",
       " ('Cours', 0.008571228481284117),\n",
       " ('commercial en Belgique', 0.008571574957531441),\n",
       " ('commercial', 0.0088749202628607),\n",
       " ('Adjudication', 0.008960101661723098),\n",
       " ('police', 0.009019888447022565)]"
      ]
     },
     "execution_count": 47,
     "metadata": {},
     "output_type": "execute_result"
    }
   ],
   "source": [
    "keywords"
   ]
  },
  {
   "cell_type": "code",
   "execution_count": 48,
   "id": "2a54b7c0-a73a-41a5-817e-def5d1578777",
   "metadata": {},
   "outputs": [
    {
     "data": {
      "text/plain": [
       "['EMILE Collège',\n",
       " \"Ville jusqu'au\",\n",
       " 'Musée commercial',\n",
       " 'jours ouvrables',\n",
       " 'écoles primaires']"
      ]
     },
     "execution_count": 48,
     "metadata": {},
     "output_type": "execute_result"
    }
   ],
   "source": [
    "# Ne garder que les bigrammes\n",
    "kept = []\n",
    "for kw, score in keywords:\n",
    "    words = kw.split()\n",
    "    if len(words) == 2 and kw.lower() not in ignored:\n",
    "        kept.append(kw)\n",
    "kept"
   ]
  },
  {
   "cell_type": "markdown",
   "id": "91d9773f-7b14-4b87-88e0-2735979901fe",
   "metadata": {},
   "source": [
    "### Faire la même opération sur tous les documents"
   ]
  },
  {
   "cell_type": "code",
   "execution_count": 49,
   "id": "3faa47c8-7030-4296-b062-ff8455d86b70",
   "metadata": {},
   "outputs": [
    {
     "name": "stdout",
     "output_type": "stream",
     "text": [
      "Bxl_1908_Tome_I1_Part_1.txt\n",
      "Bxl_1908_Tome_I1_Part_1.txt mentions these keywords: d'un crédit, vote d'un, d'un service...\n",
      "Bxl_1908_Tome_I1_Part_10.txt\n",
      "Bxl_1908_Tome_I1_Part_10.txt mentions these keywords: ...\n",
      "Bxl_1908_Tome_I1_Part_11.txt\n",
      "Bxl_1908_Tome_I1_Part_11.txt mentions these keywords: tramways bruxellois, d'une ligne, travaux publics...\n",
      "Bxl_1908_Tome_I1_Part_12.txt\n",
      "Bxl_1908_Tome_I1_Part_12.txt mentions these keywords: tramways bruxellois, d'une école, d'une ligne, dépenses extraordinaires, tarifs ligne, construction d'une...\n",
      "Bxl_1908_Tome_I1_Part_13.txt\n",
      "Bxl_1908_Tome_I1_Part_13.txt mentions these keywords: frais d'administration, sous-institutrice primaire, conseiller communal, fonds intercommunal, sous-instituteur primaire, d'autres communes, recettes. dépenses...\n",
      "Bxl_1908_Tome_I1_Part_2.txt\n",
      "Bxl_1908_Tome_I1_Part_2.txt mentions these keywords: dépenses ordinaires, suffrage universel, dépenses extraordinaires, recettes ordinaires, loi communale, vote d'un, rue nouvelle...\n",
      "Bxl_1908_Tome_I1_Part_3.txt\n",
      "Bxl_1908_Tome_I1_Part_3.txt mentions these keywords: grandes villes, francs qu'il, conseil provincial, députation permanente, l'hôpital saint-jean...\n",
      "Bxl_1908_Tome_I1_Part_4.txt\n",
      "Bxl_1908_Tome_I1_Part_4.txt mentions these keywords: frais d'entretien, frais frais, maison rue, voir tableau, général conseil, domestique frais, fonds belges, capital nominal...\n",
      "Bxl_1908_Tome_I1_Part_5.txt\n",
      "Bxl_1908_Tome_I1_Part_5.txt mentions these keywords: frais imprévus, dépenses faites, hôpital roger, hôpital saint-pierre, francs fonds, frais d'entretien, hôpital saint-jean, placement d'un, nue propriété, enfants assistés...\n",
      "Bxl_1908_Tome_I1_Part_6.txt\n",
      "Bxl_1908_Tome_I1_Part_6.txt mentions these keywords: hôpital saint-pierre, frais d'entretien, hôpital hôpital, enfants assistés, quantité montant, hospice roger, hôpital saint-jean...\n",
      "Bxl_1908_Tome_I1_Part_7.txt\n",
      "Bxl_1908_Tome_I1_Part_7.txt mentions these keywords: conseil d'administration, installations maritimes...\n",
      "Bxl_1908_Tome_I1_Part_8.txt\n",
      "Bxl_1908_Tome_I1_Part_8.txt mentions these keywords: l'honorable gouverneur, intérêts intérêts, recettes extraordinaires, fonds publics, frais d'administration, frais d'entretien, dépenses extraordinaires...\n",
      "Bxl_1908_Tome_I1_Part_9.txt\n",
      "Bxl_1908_Tome_I1_Part_9.txt mentions these keywords: tarif uniforme, traction électrique, l'echevin lemonnier...\n",
      "Bxl_1908_Tome_II1_Part_1.txt\n",
      "Bxl_1908_Tome_II1_Part_1.txt mentions these keywords: noms commencent, cautionnement n'est, emile collège, jours ouvrables, bureau unique...\n",
      "Bxl_1908_Tome_II1_Part_2.txt\n",
      "Bxl_1908_Tome_II1_Part_2.txt mentions these keywords: jours ouvrables, cautionnement n'est...\n",
      "Bxl_1908_Tome_II1_Part_3.txt\n",
      "Bxl_1908_Tome_II1_Part_3.txt mentions these keywords: emile collège, jours ouvrables, ville jusqu'au, cautionnement n'est, musée commercial, jusqu'au jour...\n"
     ]
    }
   ],
   "source": [
    "for f in sorted(bxl_files)[:16]:\n",
    "    print(f)\n",
    "    text = open(os.path.join(data_path, f), 'r').read()\n",
    "    keywords = kw_extractor.extract_keywords(text.lower())\n",
    "    kept = []\n",
    "    for kw, score in keywords:\n",
    "        words = kw.split()\n",
    "        # condition pour pouvoir les ajouter dans la liste\n",
    "        if len(words) == 2 and kw.lower() not in ignored:\n",
    "            kept.append(kw)\n",
    "    print(f\"{f} mentions these keywords: {', '.join(kept)}...\")"
   ]
  }
 ],
 "metadata": {
  "kernelspec": {
   "display_name": "Python 3 (ipykernel)",
   "language": "python",
   "name": "python3"
  },
  "language_info": {
   "codemirror_mode": {
    "name": "ipython",
    "version": 3
   },
   "file_extension": ".py",
   "mimetype": "text/x-python",
   "name": "python",
   "nbconvert_exporter": "python",
   "pygments_lexer": "ipython3",
   "version": "3.9.7"
  }
 },
 "nbformat": 4,
 "nbformat_minor": 5
}
