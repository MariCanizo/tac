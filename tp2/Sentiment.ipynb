{
 "cells": [
  {
   "cell_type": "markdown",
   "id": "2db2f086",
   "metadata": {},
   "source": [
    "# Sentiment analysis"
   ]
  },
  {
   "cell_type": "markdown",
   "id": "49c08f3e",
   "metadata": {},
   "source": [
    "# Sentiment analysis avec Textblob-FR"
   ]
  },
  {
   "cell_type": "markdown",
   "id": "5fef8449",
   "metadata": {},
   "source": [
    "### Imports"
   ]
  },
  {
   "cell_type": "code",
   "execution_count": 1,
   "id": "5ae0091e",
   "metadata": {},
   "outputs": [],
   "source": [
    "import sys\n",
    "from textblob import Blobber\n",
    "from textblob_fr import PatternTagger, PatternAnalyzer"
   ]
  },
  {
   "cell_type": "markdown",
   "id": "b52a49be",
   "metadata": {},
   "source": [
    "### Fonction"
   ]
  },
  {
   "cell_type": "code",
   "execution_count": 2,
   "id": "a07283ec",
   "metadata": {},
   "outputs": [],
   "source": [
    "tb = Blobber(pos_tagger=PatternTagger(), analyzer=PatternAnalyzer())\n",
    "\n",
    "#blob encasilla una palabra en positiva, negativa o neutra\n",
    "\n",
    "def get_sentiment(input_text):\n",
    "    blob = tb(input_text)\n",
    "    polarity, subjectivity = blob.sentiment\n",
    "    polarity_perc = f\"{100*abs(polarity):.0f}\"\n",
    "    subjectivity_perc = f\"{100*subjectivity:.0f}\"\n",
    "    if polarity > 0:\n",
    "        polarity_str = f\"{polarity_perc}% positive\"\n",
    "    elif polarity < 0:\n",
    "        polarity_str = f\"{polarity_perc}% negative\"\n",
    "    else:\n",
    "        polarity_str = \"neutral\"\n",
    "    if subjectivity > 0:\n",
    "        subjectivity_str = f\"{subjectivity_perc}% subjective\"\n",
    "    else:\n",
    "        subjectivity_str = \"perfectly objective\"\n",
    "    print(f\"This text is {polarity_str} and {subjectivity_str}.\")"
   ]
  },
  {
   "cell_type": "markdown",
   "id": "f2a20796",
   "metadata": {},
   "source": [
    "### Analyser le sentiment de dix phrases"
   ]
  },
  {
   "cell_type": "code",
   "execution_count": 3,
   "id": "a10c0fc4",
   "metadata": {},
   "outputs": [
    {
     "name": "stdout",
     "output_type": "stream",
     "text": [
      "This text is neutral and perfectly objective.\n"
     ]
    }
   ],
   "source": [
    "# 1\n",
    "get_sentiment(\"M . De Locht s'excuse de ne pouvoir assister à la séance.\")"
   ]
  },
  {
   "cell_type": "code",
   "execution_count": 4,
   "id": "8769aff5",
   "metadata": {},
   "outputs": [
    {
     "name": "stdout",
     "output_type": "stream",
     "text": [
      "This text is neutral and perfectly objective.\n"
     ]
    }
   ],
   "source": [
    "# 2\n",
    "get_sentiment(\"Mais la statistique de la mortalité est aisée ; celle de la morbidité l'est moins.\")"
   ]
  },
  {
   "cell_type": "code",
   "execution_count": 5,
   "id": "8d46f4b9",
   "metadata": {},
   "outputs": [
    {
     "name": "stdout",
     "output_type": "stream",
     "text": [
      "This text is 8% positive and 40% subjective.\n"
     ]
    }
   ],
   "source": [
    "# 3\n",
    "get_sentiment(\"Il est procédé au vote par scrutin secret.\")"
   ]
  },
  {
   "cell_type": "code",
   "execution_count": 6,
   "id": "7d2bcec4",
   "metadata": {},
   "outputs": [
    {
     "name": "stdout",
     "output_type": "stream",
     "text": [
      "This text is 21% positive and 32% subjective.\n"
     ]
    }
   ],
   "source": [
    "# 3\n",
    "get_sentiment(\"je souhaite à mes collègues une cordiale bienvenue et je fais appel à leur concours à tons pour le plus grand bien de notre c h è r e c i t é\")"
   ]
  },
  {
   "cell_type": "code",
   "execution_count": 7,
   "id": "89a2b125",
   "metadata": {},
   "outputs": [
    {
     "name": "stdout",
     "output_type": "stream",
     "text": [
      "This text is 12% negative and 20% subjective.\n"
     ]
    }
   ],
   "source": [
    "# 4\n",
    "get_sentiment(\"L'existence d'une épidémie ne peut être constatée que par les cas qui se présentent parmi les assistés de la bienfaisance publique (les médecins ont l'obligation de les déclarer) ou bien par les malades traités dans les hôpitaux.\")"
   ]
  },
  {
   "cell_type": "code",
   "execution_count": 8,
   "id": "8d77cee8",
   "metadata": {},
   "outputs": [
    {
     "name": "stdout",
     "output_type": "stream",
     "text": [
      "This text is 37% positive and 37% subjective.\n"
     ]
    }
   ],
   "source": [
    "# 5\n",
    "get_sentiment(\"Je trouve fantastique que l'on puisse autoriser une personne, par camaraderie, par tolérance, ou pour toute autre raison, à cacher la cause d'un décès.\")"
   ]
  },
  {
   "cell_type": "code",
   "execution_count": 9,
   "id": "a67843d9",
   "metadata": {},
   "outputs": [
    {
     "name": "stdout",
     "output_type": "stream",
     "text": [
      "This text is neutral and perfectly objective.\n"
     ]
    }
   ],
   "source": [
    "# 6\n",
    "get_sentiment(\"L'Union syndicale des hôteliers, restaurateurs et cafetiers de l'agglomération bruxelloise demande le rétablissement au budget de 1908 du crédit accordé pour les courses de chevaux.\")"
   ]
  },
  {
   "cell_type": "code",
   "execution_count": 10,
   "id": "58d9b22e",
   "metadata": {},
   "outputs": [
    {
     "name": "stdout",
     "output_type": "stream",
     "text": [
      "This text is 51% positive and 50% subjective.\n"
     ]
    }
   ],
   "source": [
    "# 7\n",
    "get_sentiment(\"Nous sommes heureux de vous revoir parmi nous et nous comptons tous sur votre précieux concours.\")"
   ]
  },
  {
   "cell_type": "code",
   "execution_count": 11,
   "id": "7055134b",
   "metadata": {},
   "outputs": [
    {
     "name": "stdout",
     "output_type": "stream",
     "text": [
      "This text is 32% positive and 30% subjective.\n"
     ]
    }
   ],
   "source": [
    "# 8\n",
    "get_sentiment(\"L'eau de la distribution de Bruxelles, à l'heure actuelle, peut être classée comme auparavant parmi les meilleures eaux de distribution\")"
   ]
  },
  {
   "cell_type": "code",
   "execution_count": 12,
   "id": "4b830ee5",
   "metadata": {},
   "outputs": [
    {
     "name": "stdout",
     "output_type": "stream",
     "text": [
      "This text is neutral and perfectly objective.\n"
     ]
    }
   ],
   "source": [
    "# 9\n",
    "get_sentiment(\"L a Société des Brasseurs de l'arrondissemantde Bruxelles se plaint de la difficulté que présentent, pour les conducteurs de véhicules\")"
   ]
  },
  {
   "cell_type": "code",
   "execution_count": 13,
   "id": "a98e0adf",
   "metadata": {},
   "outputs": [
    {
     "name": "stdout",
     "output_type": "stream",
     "text": [
      "This text is 2% negative and 30% subjective.\n"
     ]
    }
   ],
   "source": [
    "# 10\n",
    "get_sentiment(\"C'est le cas de dire que si nos eaux étaient contaminées, et n'avaient pas les qualités que tout le monde leur reconnaît, nos hôpitaux ne pourraient suffire, et Bruxelles serait le siège permanent d'épidémies redoutables.\")"
   ]
  },
  {
   "cell_type": "code",
   "execution_count": null,
   "id": "76c911c8-9eda-48fb-b76a-5819e7482548",
   "metadata": {},
   "outputs": [],
   "source": []
  }
 ],
 "metadata": {
  "interpreter": {
   "hash": "aee8b7b246df8f9039afb4144a1f6fd8d2ca17a180786b69acc140d282b71a49"
  },
  "kernelspec": {
   "display_name": "Python 3 (ipykernel)",
   "language": "python",
   "name": "python3"
  },
  "language_info": {
   "codemirror_mode": {
    "name": "ipython",
    "version": 3
   },
   "file_extension": ".py",
   "mimetype": "text/x-python",
   "name": "python",
   "nbconvert_exporter": "python",
   "pygments_lexer": "ipython3",
   "version": "3.9.7"
  }
 },
 "nbformat": 4,
 "nbformat_minor": 5
}
